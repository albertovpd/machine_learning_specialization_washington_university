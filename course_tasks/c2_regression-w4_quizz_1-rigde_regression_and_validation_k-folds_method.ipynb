{
 "cells": [
  {
   "cell_type": "markdown",
   "metadata": {},
   "source": [
    "# Regression Week 4: Ridge Regression (interpretation)"
   ]
  },
  {
   "cell_type": "markdown",
   "metadata": {},
   "source": [
    "In this notebook, we will run ridge regression multiple times with different L2 penalties to see which one produces the best fit. We will revisit the example of polynomial regression as a means to see the effect of L2 regularization. In particular, we will:\n",
    "* Use a pre-built implementation of regression (Turi Create) to run polynomial regression\n",
    "* Use matplotlib to visualize polynomial regressions\n",
    "* Use a pre-built implementation of regression (Turi Create) to run polynomial regression, this time with L2 penalty\n",
    "* Use matplotlib to visualize polynomial regressions under L2 regularization\n",
    "* Choose best L2 penalty using cross-validation.\n",
    "* Assess the final fit using test data.\n",
    "\n",
    "We will continue to use the House data from previous notebooks.  (In the next programming assignment for this module, you will implement your own ridge regression learning algorithm using gradient descent.)"
   ]
  },
  {
   "cell_type": "markdown",
   "metadata": {},
   "source": [
    "# Fire up pandas and numpy"
   ]
  },
  {
   "cell_type": "code",
   "execution_count": 4,
   "metadata": {},
   "outputs": [],
   "source": [
    "import pandas as pd\n",
    "import numpy as np"
   ]
  },
  {
   "cell_type": "code",
   "execution_count": 5,
   "metadata": {},
   "outputs": [
    {
     "data": {
      "text/html": [
       "<div>\n",
       "<style scoped>\n",
       "    .dataframe tbody tr th:only-of-type {\n",
       "        vertical-align: middle;\n",
       "    }\n",
       "\n",
       "    .dataframe tbody tr th {\n",
       "        vertical-align: top;\n",
       "    }\n",
       "\n",
       "    .dataframe thead th {\n",
       "        text-align: right;\n",
       "    }\n",
       "</style>\n",
       "<table border=\"1\" class=\"dataframe\">\n",
       "  <thead>\n",
       "    <tr style=\"text-align: right;\">\n",
       "      <th></th>\n",
       "      <th>sqft_living</th>\n",
       "      <th>price</th>\n",
       "    </tr>\n",
       "  </thead>\n",
       "  <tbody>\n",
       "    <tr>\n",
       "      <th>19452</th>\n",
       "      <td>290.0</td>\n",
       "      <td>142000.0</td>\n",
       "    </tr>\n",
       "    <tr>\n",
       "      <th>15381</th>\n",
       "      <td>370.0</td>\n",
       "      <td>276000.0</td>\n",
       "    </tr>\n",
       "    <tr>\n",
       "      <th>860</th>\n",
       "      <td>380.0</td>\n",
       "      <td>245000.0</td>\n",
       "    </tr>\n",
       "    <tr>\n",
       "      <th>18379</th>\n",
       "      <td>384.0</td>\n",
       "      <td>265000.0</td>\n",
       "    </tr>\n",
       "    <tr>\n",
       "      <th>4868</th>\n",
       "      <td>390.0</td>\n",
       "      <td>228000.0</td>\n",
       "    </tr>\n",
       "  </tbody>\n",
       "</table>\n",
       "</div>"
      ],
      "text/plain": [
       "       sqft_living     price\n",
       "19452        290.0  142000.0\n",
       "15381        370.0  276000.0\n",
       "860          380.0  245000.0\n",
       "18379        384.0  265000.0\n",
       "4868         390.0  228000.0"
      ]
     },
     "execution_count": 5,
     "metadata": {},
     "output_type": "execute_result"
    }
   ],
   "source": [
    "dtype_dict = {'bathrooms':float, 'waterfront':int, 'sqft_above':int, 'sqft_living15':float, 'grade':int, 'yr_renovated':int, 'price':float, 'bedrooms':float, 'zipcode':str, 'long':float, 'sqft_lot15':float, 'sqft_living':float, 'floors':float, 'condition':int, 'lat':float, 'date':str, 'sqft_basement':int, 'yr_built':int, 'id':str, 'sqft_lot':int, 'view':int}\n",
    "\n",
    "sales = pd.read_csv('../input/kc_house_data.csv', dtype=dtype_dict)\n",
    "sales = sales[['sqft_living','price']].sort_values(by='sqft_living')\n",
    "sales.head()"
   ]
  },
  {
   "cell_type": "markdown",
   "metadata": {},
   "source": [
    "# Polynomial regression, revisited"
   ]
  },
  {
   "cell_type": "markdown",
   "metadata": {},
   "source": [
    "We build on the material from Week 3, where we wrote the function to produce an SFrame with columns containing the powers of a given input. Copy and paste the function `polynomial_sframe` from Week 3:"
   ]
  },
  {
   "cell_type": "code",
   "execution_count": 6,
   "metadata": {},
   "outputs": [],
   "source": [
    "def polynomial_sframe(feature, degree):\n",
    "    # assume that degree >= 1\n",
    "    # initialize the SFrame:\n",
    "    poly_sframe = pd.DataFrame()\n",
    "    # and set poly_sframe['power_1'] equal to the passed feature\n",
    "    poly_sframe['power_1'] = feature\n",
    "    # first check if degree > 1\n",
    "    if degree > 1:\n",
    "        # then loop over the remaining degrees:\n",
    "        # range usually starts at 0 and stops at the endpoint-1. We want it to start at 2 and stop at degree\n",
    "        for power in range(2, degree+1): \n",
    "            # first we'll give the column a name:\n",
    "            name = 'power_' + str(power)\n",
    "            # then assign poly_sframe[name] to the appropriate power of feature\n",
    "            poly_sframe[name] = poly_sframe['power_1'].apply(lambda x:x**power)\n",
    "    return poly_sframe"
   ]
  },
  {
   "cell_type": "markdown",
   "metadata": {},
   "source": [
    "Let's use matplotlib to visualize what a polynomial regression looks like on the house data."
   ]
  },
  {
   "cell_type": "code",
   "execution_count": 7,
   "metadata": {},
   "outputs": [],
   "source": [
    "import matplotlib.pyplot as plt\n",
    "%matplotlib inline"
   ]
  },
  {
   "cell_type": "code",
   "execution_count": 8,
   "metadata": {},
   "outputs": [],
   "source": [
    "#sales = turicreate.SFrame('home_data.sframe/')"
   ]
  },
  {
   "cell_type": "markdown",
   "metadata": {},
   "source": [
    "As in Week 3, we will use the sqft_living variable. For plotting purposes (connecting the dots), you'll need to sort by the values of sqft_living. For houses with identical square footage, we break the tie by their prices."
   ]
  },
  {
   "cell_type": "code",
   "execution_count": 9,
   "metadata": {},
   "outputs": [],
   "source": [
    "#sales = sales.sort(['sqft_living','price'])"
   ]
  },
  {
   "cell_type": "markdown",
   "metadata": {},
   "source": [
    "Let us revisit the 15th-order polynomial model using the 'sqft_living' input. Generate polynomial features up to degree 15 using `polynomial_sframe()` and fit a model with these features. When fitting the model, use an L2 penalty of `1e-5`:"
   ]
  },
  {
   "cell_type": "code",
   "execution_count": 10,
   "metadata": {},
   "outputs": [],
   "source": [
    "l2_small_penalty = 1e-5"
   ]
  },
  {
   "cell_type": "markdown",
   "metadata": {},
   "source": [
    "Note: When we have so many features and so few data points, the solution can become highly numerically unstable, which can sometimes lead to strange unpredictable results.  Thus, rather than using no regularization, we will introduce a tiny amount of regularization (`l2_penalty=1e-5`) to make the solution numerically stable.  (In lecture, we discussed the fact that regularization can also help with numerical stability, and here we are seeing a practical example.)\n",
    "\n",
    "With the L2 penalty specified above, fit the model and print out the learned weights.\n",
    "\n",
    "Hint: make sure to add 'price' column to the new SFrame before calling `turicreate.linear_regression.create()`. Also, make sure Turi Create doesn't create its own validation set by using the option `validation_set=None` in this call."
   ]
  },
  {
   "cell_type": "code",
   "execution_count": 11,
   "metadata": {},
   "outputs": [
    {
     "data": {
      "text/plain": [
       "Ridge(alpha=1e-05, normalize=True)"
      ]
     },
     "execution_count": 11,
     "metadata": {},
     "output_type": "execute_result"
    }
   ],
   "source": [
    "from sklearn import linear_model\n",
    "import numpy as np\n",
    "\n",
    "poly15_data = polynomial_sframe(sales['sqft_living'], 15) # use equivalent of `polynomial_sframe`\n",
    "model = linear_model.Ridge(alpha=l2_small_penalty, normalize=True) #alpha is the L2 in sklearn\n",
    "model.fit(poly15_data, sales['price'])"
   ]
  },
  {
   "cell_type": "code",
   "execution_count": 12,
   "metadata": {},
   "outputs": [],
   "source": [
    "#lets make a function to nicely display coefficients in polynomial order:\n",
    "\n",
    "def polynomial_fit(model, order):\n",
    "    intercept = model.intercept_\n",
    "    polynom =[]\n",
    "    print(\"model fit: \",\"\\n\", intercept)\n",
    "    for i,c in enumerate(model.coef_):\n",
    "        #print(i,c)\n",
    "        x= \" x**\"+str(i+1)\n",
    "        print( str(c)+str(x))\n",
    "        #polynom.append(str(c)+str(x))\n",
    "        \n",
    "    \n",
    "    print ( \"\\n\",\"intercept = \",intercept, \"\\n\", \"coefficient = \",model.coef_, \"\\n\")"
   ]
  },
  {
   "cell_type": "code",
   "execution_count": 13,
   "metadata": {},
   "outputs": [
    {
     "name": "stdout",
     "output_type": "stream",
     "text": [
      "model fit:  \n",
      " 194587.10584259423\n",
      "174.42550287192955 x**1\n",
      "-0.07836440744580608 x**2\n",
      "3.732804271203566e-05 x**3\n",
      "-2.8555431096238415e-09 x**4\n",
      "-2.374875573884394e-13 x**5\n",
      "9.705297094552683e-18 x**6\n",
      "1.7779183427078345e-21 x**7\n",
      "9.769931578703767e-26 x**8\n",
      "7.788972885938832e-31 x**9\n",
      "-3.8383366695755633e-34 x**10\n",
      "-4.529400950054715e-38 x**11\n",
      "-3.166941165883041e-42 x**12\n",
      "-1.2410247494134447e-46 x**13\n",
      "4.5345646747875915e-51 x**14\n",
      "1.6342589596873113e-54 x**15\n",
      "\n",
      " intercept =  194587.10584259423 \n",
      " coefficient =  [ 1.74425503e+02 -7.83644074e-02  3.73280427e-05 -2.85554311e-09\n",
      " -2.37487557e-13  9.70529709e-18  1.77791834e-21  9.76993158e-26\n",
      "  7.78897289e-31 -3.83833667e-34 -4.52940095e-38 -3.16694117e-42\n",
      " -1.24102475e-46  4.53456467e-51  1.63425896e-54] \n",
      "\n"
     ]
    }
   ],
   "source": [
    "#let's take a look at the weights before we plot\n",
    "polynomial_fit(model,15)"
   ]
  },
  {
   "cell_type": "markdown",
   "metadata": {},
   "source": [
    "***QUIZ QUESTION:  What's the learned value for the coefficient of feature `power_1`?***"
   ]
  },
  {
   "cell_type": "code",
   "execution_count": 14,
   "metadata": {},
   "outputs": [
    {
     "data": {
      "text/plain": [
       "Ridge(alpha=1e-05, normalize=True)"
      ]
     },
     "execution_count": 14,
     "metadata": {},
     "output_type": "execute_result"
    }
   ],
   "source": [
    "poly1_data = polynomial_sframe(sales['sqft_living'], 1) # use equivalent of `polynomial_sframe`\n",
    "model1 = linear_model.Ridge(alpha=l2_small_penalty, normalize=True) #alpha is the L2 in sklearn\n",
    "model1.fit(poly1_data, sales['price'])"
   ]
  },
  {
   "cell_type": "code",
   "execution_count": 15,
   "metadata": {},
   "outputs": [
    {
     "name": "stdout",
     "output_type": "stream",
     "text": [
      "model fit:  \n",
      " -43574.9064639915\n",
      "280.6207616898313 x**1\n",
      "\n",
      " intercept =  -43574.9064639915 \n",
      " coefficient =  [280.62076169] \n",
      "\n"
     ]
    }
   ],
   "source": [
    "polynomial_fit(model1,1)"
   ]
  },
  {
   "cell_type": "code",
   "execution_count": 17,
   "metadata": {},
   "outputs": [],
   "source": [
    "#ok, the intercept of 15th order polynomial regression is 3 order of magnitudes bigger than the lineal polynom"
   ]
  },
  {
   "cell_type": "markdown",
   "metadata": {},
   "source": [
    "# Observe overfitting"
   ]
  },
  {
   "cell_type": "markdown",
   "metadata": {},
   "source": [
    "Recall from Week 3 that the polynomial fit of degree 15 changed wildly whenever the data changed. In particular, when we split the sales data into four subsets and fit the model of degree 15, the result came out to be very different for each subset. The model had a *high variance*. We will see in a moment that ridge regression reduces such variance. But first, we must reproduce the experiment we did in Week 3."
   ]
  },
  {
   "cell_type": "markdown",
   "metadata": {},
   "source": [
    "First, split the data into split the sales data into four subsets of roughly equal size and call them `set_1`, `set_2`, `set_3`, and `set_4`. Use `.random_split` function and make sure you set `seed=0`. "
   ]
  },
  {
   "cell_type": "code",
   "execution_count": 18,
   "metadata": {},
   "outputs": [],
   "source": [
    "set_1 = pd.read_csv('../input/wk3_kc_house_set_1_data.csv',dtype=dtype_dict)\n",
    "set_2 = pd.read_csv('../input/wk3_kc_house_set_2_data.csv',dtype=dtype_dict)\n",
    "set_3 = pd.read_csv('../input/wk3_kc_house_set_3_data.csv',dtype=dtype_dict)\n",
    "set_4 = pd.read_csv('../input/wk3_kc_house_set_4_data.csv',dtype=dtype_dict)"
   ]
  },
  {
   "cell_type": "markdown",
   "metadata": {},
   "source": [
    "Next, fit a 15th degree polynomial on `set_1`, `set_2`, `set_3`, and `set_4`, using 'sqft_living' to predict prices. Print the weights and make a plot of the resulting model.\n",
    "\n",
    "Hint: When calling `turicreate.linear_regression.create()`, use the same L2 penalty as before (i.e. `l2_small_penalty`).  Also, make sure Turi Create doesn't create its own validation set by using the option `validation_set = None` in this call."
   ]
  },
  {
   "cell_type": "code",
   "execution_count": 25,
   "metadata": {},
   "outputs": [],
   "source": [
    "from sklearn.linear_model import Ridge"
   ]
  },
  {
   "cell_type": "code",
   "execution_count": 19,
   "metadata": {},
   "outputs": [],
   "source": [
    "import matplotlib.pyplot as plt\n",
    "%matplotlib inline"
   ]
  },
  {
   "cell_type": "code",
   "execution_count": 20,
   "metadata": {},
   "outputs": [],
   "source": [
    "# let's do it all together at once\n",
    "def polynomial_fit_forall(data, order):\n",
    "    data = polynomial_sframe(sales['sqft_living'], order) # use equivalent of `polynomial_sframe`\n",
    "    model = linear_model.Ridge(alpha=l2_small_penalty, normalize=True) #alpha is the L2 in sklearn\n",
    "    model.fit(data, sales['price'])\n",
    "    intercept = model.intercept_\n",
    "    polynom =[]\n",
    "    print(dict,\"\\n\", intercept)\n",
    "    for i,c in enumerate(model.coef_):\n",
    "        #print(i,c)\n",
    "        x= \" x**\"+str(i+1)\n",
    "        print( str(c)+str(x))\n",
    "        #polynom.append(str(c)+str(x))\n",
    "    #print ( \"\\n\",\"intercept = \",intercept, \"\\n\", \"coefficient = \",model.coef_, \"\\n\")\n",
    "    print(\"\\n\",\"------\",\"\\n\")"
   ]
  },
  {
   "cell_type": "code",
   "execution_count": 33,
   "metadata": {},
   "outputs": [],
   "source": [
    "# ------ IMPORTANT FUNCTION ------- \n",
    "# Put polynomial degree also as input  and you'll have a gradient search\n",
    "def predict_plot(data,a):\n",
    "    \n",
    "    # polynomial\n",
    "    poly15_data = polynomial_sframe(data['sqft_living'], 15)\n",
    "    my_features = poly15_data.columns # get the name of the features\n",
    "    poly15_data['price'] = data['price'] # add price to the data since it's the target\n",
    "    model_set_1 = Ridge(alpha = a,normalize= True)\n",
    "    model_set_1.fit(poly15_data[my_features],poly15_data['price'].values.reshape(-1,1))\n",
    "    \n",
    "    # plotting\n",
    "    plt.figure()\n",
    "    plt.plot(poly15_data['power_1'],poly15_data['price'],'.', \n",
    "             poly15_data['power_1'], model_set_1.predict(poly15_data[my_features]),'-')\n",
    "    print(my_features.tolist()[0],model_set_1.coef_.tolist()[0][0]) \n",
    "    plt.show()\n"
   ]
  },
  {
   "cell_type": "code",
   "execution_count": 34,
   "metadata": {},
   "outputs": [],
   "source": [
    "set_dict={\"set_1\":set_1,\"set_2\":set_2,\"set_3\":set_3,\"set_4\":set_4}"
   ]
  },
  {
   "cell_type": "code",
   "execution_count": 36,
   "metadata": {},
   "outputs": [
    {
     "name": "stdout",
     "output_type": "stream",
     "text": [
      "set_1 \n",
      " 194587.10584259423\n",
      "174.42550287192955 x**1\n",
      "-0.07836440744580608 x**2\n",
      "3.732804271203566e-05 x**3\n",
      "-2.8555431096238415e-09 x**4\n",
      "-2.374875573884394e-13 x**5\n",
      "9.705297094552683e-18 x**6\n",
      "1.7779183427078345e-21 x**7\n",
      "9.769931578703767e-26 x**8\n",
      "7.788972885938832e-31 x**9\n",
      "-3.8383366695755633e-34 x**10\n",
      "-4.529400950054715e-38 x**11\n",
      "-3.166941165883041e-42 x**12\n",
      "-1.2410247494134447e-46 x**13\n",
      "4.5345646747875915e-51 x**14\n",
      "1.6342589596873113e-54 x**15\n",
      "\n",
      " ------ \n",
      "\n"
     ]
    },
    {
     "data": {
      "image/png": "[encoded data removed]",
      "text/plain": [
       "<Figure size 432x288 with 1 Axes>"
      ]
     },
     "metadata": {
      "needs_background": "light"
     },
     "output_type": "display_data"
    },
    {
     "name": "stdout",
     "output_type": "stream",
     "text": [
      "power_1 1.351065413118179\n",
      "\n",
      " \n",
      "\n",
      "set_2 \n",
      " 194587.10584259423\n",
      "174.42550287192955 x**1\n",
      "-0.07836440744580608 x**2\n",
      "3.732804271203566e-05 x**3\n",
      "-2.8555431096238415e-09 x**4\n",
      "-2.374875573884394e-13 x**5\n",
      "9.705297094552683e-18 x**6\n",
      "1.7779183427078345e-21 x**7\n",
      "9.769931578703767e-26 x**8\n",
      "7.788972885938832e-31 x**9\n",
      "-3.8383366695755633e-34 x**10\n",
      "-4.529400950054715e-38 x**11\n",
      "-3.166941165883041e-42 x**12\n",
      "-1.2410247494134447e-46 x**13\n",
      "4.5345646747875915e-51 x**14\n",
      "1.6342589596873113e-54 x**15\n",
      "\n",
      " ------ \n",
      "\n"
     ]
    },
    {
     "data": {
      "image/png": "[encoded data removed]",
      "text/plain": [
       "<Figure size 432x288 with 1 Axes>"
      ]
     },
     "metadata": {
      "needs_background": "light"
     },
     "output_type": "display_data"
    },
    {
     "name": "stdout",
     "output_type": "stream",
     "text": [
      "power_1 306.8119115309601\n",
      "\n",
      " \n",
      "\n",
      "set_3 \n",
      " 194587.10584259423\n",
      "174.42550287192955 x**1\n",
      "-0.07836440744580608 x**2\n",
      "3.732804271203566e-05 x**3\n",
      "-2.8555431096238415e-09 x**4\n",
      "-2.374875573884394e-13 x**5\n",
      "9.705297094552683e-18 x**6\n",
      "1.7779183427078345e-21 x**7\n",
      "9.769931578703767e-26 x**8\n",
      "7.788972885938832e-31 x**9\n",
      "-3.8383366695755633e-34 x**10\n",
      "-4.529400950054715e-38 x**11\n",
      "-3.166941165883041e-42 x**12\n",
      "-1.2410247494134447e-46 x**13\n",
      "4.5345646747875915e-51 x**14\n",
      "1.6342589596873113e-54 x**15\n",
      "\n",
      " ------ \n",
      "\n"
     ]
    },
    {
     "data": {
      "image/png": "[encoded data removed]",
      "text/plain": [
       "<Figure size 432x288 with 1 Axes>"
      ]
     },
     "metadata": {
      "needs_background": "light"
     },
     "output_type": "display_data"
    },
    {
     "name": "stdout",
     "output_type": "stream",
     "text": [
      "power_1 224.2701654116122\n",
      "\n",
      " \n",
      "\n",
      "set_4 \n",
      " 194587.10584259423\n",
      "174.42550287192955 x**1\n",
      "-0.07836440744580608 x**2\n",
      "3.732804271203566e-05 x**3\n",
      "-2.8555431096238415e-09 x**4\n",
      "-2.374875573884394e-13 x**5\n",
      "9.705297094552683e-18 x**6\n",
      "1.7779183427078345e-21 x**7\n",
      "9.769931578703767e-26 x**8\n",
      "7.788972885938832e-31 x**9\n",
      "-3.8383366695755633e-34 x**10\n",
      "-4.529400950054715e-38 x**11\n",
      "-3.166941165883041e-42 x**12\n",
      "-1.2410247494134447e-46 x**13\n",
      "4.5345646747875915e-51 x**14\n",
      "1.6342589596873113e-54 x**15\n",
      "\n",
      " ------ \n",
      "\n"
     ]
    },
    {
     "data": {
      "image/png": "[encoded data removed]",
      "text/plain": [
       "<Figure size 432x288 with 1 Axes>"
      ]
     },
     "metadata": {
      "needs_background": "light"
     },
     "output_type": "display_data"
    },
    {
     "name": "stdout",
     "output_type": "stream",
     "text": [
      "power_1 83.08102835927949\n",
      "\n",
      " \n",
      "\n"
     ]
    }
   ],
   "source": [
    "for dict in set_dict:\n",
    "    #print(dict, set_dict[dict])\n",
    "    polynomial_fit_forall(set_dict[dict],15)\n",
    "    predict_plot(set_dict[dict],l2_small_penalty)\n",
    "    print(\"\\n\",\"\\n\")"
   ]
  },
  {
   "cell_type": "markdown",
   "metadata": {},
   "source": [
    "The four curves should differ from one another a lot, as should the coefficients you learned.\n",
    "\n",
    "***QUIZ QUESTION:  For the models learned in each of these training sets, what are the smallest and largest values you learned for the coefficient of feature `power_1`?***  (For the purpose of answering this question, negative numbers are considered \"smaller\" than positive numbers. So -5 is smaller than -3, and -3 is smaller than 5 and so forth.)"
   ]
  },
  {
   "cell_type": "markdown",
   "metadata": {},
   "source": [
    "# Ridge regression comes to rescue"
   ]
  },
  {
   "cell_type": "markdown",
   "metadata": {},
   "source": [
    "Generally, whenever we see weights change so much in response to change in data, we believe the variance of our estimate to be large. Ridge regression aims to address this issue by penalizing \"large\" weights. (Weights of `model15` looked quite small, but they are not that small because 'sqft_living' input is in the order of thousands.)\n",
    "\n",
    "With the argument `l2_penalty=1e5`, fit a 15th-order polynomial model on `set_1`, `set_2`, `set_3`, and `set_4`. Other than the change in the `l2_penalty` parameter, the code should be the same as the experiment above. Also, make sure Turi Create doesn't create its own validation set by using the option `validation_set = None` in this call."
   ]
  },
  {
   "cell_type": "code",
   "execution_count": 39,
   "metadata": {},
   "outputs": [],
   "source": [
    "l2_penalty=10"
   ]
  },
  {
   "cell_type": "code",
   "execution_count": 42,
   "metadata": {},
   "outputs": [
    {
     "data": {
      "image/png": "[encoded data removed]",
      "text/plain": [
       "<Figure size 432x288 with 1 Axes>"
      ]
     },
     "metadata": {
      "needs_background": "light"
     },
     "output_type": "display_data"
    },
    {
     "name": "stdout",
     "output_type": "stream",
     "text": [
      "power_1 23.16867165764342\n",
      "\n",
      " \n",
      "\n"
     ]
    },
    {
     "data": {
      "image/png": "[encoded data removed]",
      "text/plain": [
       "<Figure size 432x288 with 1 Axes>"
      ]
     },
     "metadata": {
      "needs_background": "light"
     },
     "output_type": "display_data"
    },
    {
     "name": "stdout",
     "output_type": "stream",
     "text": [
      "power_1 19.526443042596934\n",
      "\n",
      " \n",
      "\n"
     ]
    },
    {
     "data": {
      "image/png": "[encoded data removed]",
      "text/plain": [
       "<Figure size 432x288 with 1 Axes>"
      ]
     },
     "metadata": {
      "needs_background": "light"
     },
     "output_type": "display_data"
    },
    {
     "name": "stdout",
     "output_type": "stream",
     "text": [
      "power_1 21.241170760842067\n",
      "\n",
      " \n",
      "\n"
     ]
    },
    {
     "data": {
      "image/png": "[encoded data removed]",
      "text/plain": [
       "<Figure size 432x288 with 1 Axes>"
      ]
     },
     "metadata": {
      "needs_background": "light"
     },
     "output_type": "display_data"
    },
    {
     "name": "stdout",
     "output_type": "stream",
     "text": [
      "power_1 19.095798464914008\n",
      "\n",
      " \n",
      "\n"
     ]
    }
   ],
   "source": [
    "for dict in set_dict:\n",
    "    #print(dict, set_dict[dict])\n",
    "    #polynomial_fit_forall(set_dict[dict],15)\n",
    "    predict_plot(set_dict[dict],l2_penalty)\n",
    "    print(\"\\n\",\"\\n\")"
   ]
  },
  {
   "cell_type": "code",
   "execution_count": null,
   "metadata": {},
   "outputs": [],
   "source": [
    "predict_plot(set_4,l2_large_penalty)"
   ]
  },
  {
   "cell_type": "code",
   "execution_count": null,
   "metadata": {},
   "outputs": [],
   "source": []
  },
  {
   "cell_type": "markdown",
   "metadata": {},
   "source": [
    "These curves should vary a lot less, now that you applied a high degree of regularization.\n",
    "\n",
    "***QUIZ QUESTION:  For the models learned with the high level of regularization in each of these training sets, what are the smallest and largest values you learned for the coefficient of feature `power_1`?*** (For the purpose of answering this question, negative numbers are considered \"smaller\" than positive numbers. So -5 is smaller than -3, and -3 is smaller than 5 and so forth.)"
   ]
  },
  {
   "cell_type": "markdown",
   "metadata": {},
   "source": [
    "# Selecting an L2 penalty via cross-validation, using k-folds to don't decrease useful data"
   ]
  },
  {
   "cell_type": "markdown",
   "metadata": {},
   "source": [
    "Just like the polynomial degree, the L2 penalty is a \"magic\" parameter we need to select. We could use the validation set approach as we did in the last module, but that approach has a major disadvantage: it leaves fewer observations available for training. **Cross-validation** seeks to overcome this issue by using all of the training set in a smart way.\n",
    "\n",
    "We will implement a kind of cross-validation called **k-fold cross-validation**. The method gets its name because it involves dividing the training set into k segments of roughtly equal size. Similar to the validation set method, we measure the validation error with one of the segments designated as the validation set. The major difference is that we repeat the process k times as follows:\n",
    "\n",
    "Set aside segment 0 as the validation set, and fit a model on rest of data, and evalutate it on this validation set<br>\n",
    "Set aside segment 1 as the validation set, and fit a model on rest of data, and evalutate it on this validation set<br>\n",
    "...<br>\n",
    "Set aside segment k-1 as the validation set, and fit a model on rest of data, and evalutate it on this validation set\n",
    "\n",
    "After this process, we compute the average of the k validation errors, and use it as an estimate of the generalization error. Notice that  all observations are used for both training and validation, as we iterate over segments of data. \n",
    "\n",
    "To estimate the generalization error well, it is crucial to shuffle the training data before dividing them into segments. The package turicreate_cross_validation (see below) has a utility function for shuffling a given SFrame. We reserve 10% of the data as the test set and shuffle the remainder. (Make sure to use `seed=1` to get consistent answer.)\n",
    "\n",
    "  \n",
    "_Note:_ For applying cross-validation, we will import a package called `turicreate_cross_validation`. To install it, please run this command on your terminal:\n",
    "\n",
    "`pip install -e git+https://github.com/Kagandi/turicreate-cross-validation.git#egg=turicreate_cross_validation`\n",
    "\n",
    "You can find the documentation on this package here: https://github.com/Kagandi/turicreate-cross-validation"
   ]
  },
  {
   "cell_type": "code",
   "execution_count": null,
   "metadata": {},
   "outputs": [],
   "source": [
    "'''import turicreate_cross_validation.cross_validation as tcv\n",
    "\n",
    "(train_valid, test) = sales.random_split(.9, seed=1)\n",
    "train_valid_shuffled = tcv.shuffle_sframe(train_valid, random_seed=1)'''"
   ]
  },
  {
   "cell_type": "code",
   "execution_count": 44,
   "metadata": {},
   "outputs": [],
   "source": [
    "test = pd.read_csv('../input/wk3_kc_house_test_data.csv',dtype=dtype_dict)\n",
    "train_valid_shuffled = pd.read_csv('../input/wk3_kc_house_train_valid_shuffled.csv',dtype=dtype_dict)"
   ]
  },
  {
   "cell_type": "markdown",
   "metadata": {},
   "source": [
    "Once the data is shuffled, we divide it into equal segments. Each segment should receive `n/k` elements, where `n` is the number of observations in the training set and `k` is the number of segments. Since the segment 0 starts at index 0 and contains `n/k` elements, it ends at index `(n/k)-1`. The segment 1 starts where the segment 0 left off, at index `(n/k)`. With `n/k` elements, the segment 1 ends at index `(n*2/k)-1`. Continuing in this fashion, we deduce that the segment `i` starts at index `(n*i/k)` and ends at `(n*(i+1)/k)-1`."
   ]
  },
  {
   "cell_type": "markdown",
   "metadata": {},
   "source": [
    "With this pattern in mind, we write a short loop that prints the starting and ending indices of each segment, just to make sure you are getting the splits right."
   ]
  },
  {
   "cell_type": "code",
   "execution_count": 49,
   "metadata": {},
   "outputs": [
    {
     "name": "stdout",
     "output_type": "stream",
     "text": [
      "0 (0.0, 1939.0)\n",
      "1 (1940.0, 3878.0)\n",
      "2 (3879.0, 5818.0)\n",
      "3 (5819.0, 7757.0)\n",
      "4 (7758.0, 9697.0)\n",
      "5 (9698.0, 11637.0)\n",
      "6 (11638.0, 13576.0)\n",
      "7 (13577.0, 15516.0)\n",
      "8 (15517.0, 17455.0)\n",
      "9 (17456.0, 19395.0)\n"
     ]
    }
   ],
   "source": [
    "n = len(train_valid_shuffled)\n",
    "k = 10 # 10-fold cross-validation\n",
    "\n",
    "for i in range(k):\n",
    "    start = (n*i)/k\n",
    "    end = (n*(i+1))/k-1\n",
    "    print (i, (round(start,0), round(end,0)))"
   ]
  },
  {
   "cell_type": "markdown",
   "metadata": {},
   "source": [
    "Let us familiarize ourselves with array slicing with SFrame. To extract a continuous slice from an SFrame, use colon in square brackets. For instance, the following cell extracts rows 0 to 9 of `train_valid_shuffled`. Notice that the first index (0) is included in the slice but the last index (10) is omitted."
   ]
  },
  {
   "cell_type": "code",
   "execution_count": 47,
   "metadata": {},
   "outputs": [
    {
     "data": {
      "text/html": [
       "<div>\n",
       "<style scoped>\n",
       "    .dataframe tbody tr th:only-of-type {\n",
       "        vertical-align: middle;\n",
       "    }\n",
       "\n",
       "    .dataframe tbody tr th {\n",
       "        vertical-align: top;\n",
       "    }\n",
       "\n",
       "    .dataframe thead th {\n",
       "        text-align: right;\n",
       "    }\n",
       "</style>\n",
       "<table border=\"1\" class=\"dataframe\">\n",
       "  <thead>\n",
       "    <tr style=\"text-align: right;\">\n",
       "      <th></th>\n",
       "      <th>id</th>\n",
       "      <th>date</th>\n",
       "      <th>price</th>\n",
       "      <th>bedrooms</th>\n",
       "      <th>bathrooms</th>\n",
       "      <th>sqft_living</th>\n",
       "      <th>sqft_lot</th>\n",
       "      <th>floors</th>\n",
       "      <th>waterfront</th>\n",
       "      <th>view</th>\n",
       "      <th>...</th>\n",
       "      <th>grade</th>\n",
       "      <th>sqft_above</th>\n",
       "      <th>sqft_basement</th>\n",
       "      <th>yr_built</th>\n",
       "      <th>yr_renovated</th>\n",
       "      <th>zipcode</th>\n",
       "      <th>lat</th>\n",
       "      <th>long</th>\n",
       "      <th>sqft_living15</th>\n",
       "      <th>sqft_lot15</th>\n",
       "    </tr>\n",
       "  </thead>\n",
       "  <tbody>\n",
       "    <tr>\n",
       "      <th>0</th>\n",
       "      <td>2780400035</td>\n",
       "      <td>20140505T000000</td>\n",
       "      <td>665000.0</td>\n",
       "      <td>4.0</td>\n",
       "      <td>2.50</td>\n",
       "      <td>2800.0</td>\n",
       "      <td>5900</td>\n",
       "      <td>1.0</td>\n",
       "      <td>0</td>\n",
       "      <td>0</td>\n",
       "      <td>...</td>\n",
       "      <td>8</td>\n",
       "      <td>1660</td>\n",
       "      <td>1140</td>\n",
       "      <td>1963</td>\n",
       "      <td>0</td>\n",
       "      <td>98115</td>\n",
       "      <td>47.6809</td>\n",
       "      <td>-122.286</td>\n",
       "      <td>2580.0</td>\n",
       "      <td>5900.0</td>\n",
       "    </tr>\n",
       "    <tr>\n",
       "      <th>1</th>\n",
       "      <td>1703050500</td>\n",
       "      <td>20150321T000000</td>\n",
       "      <td>645000.0</td>\n",
       "      <td>3.0</td>\n",
       "      <td>2.50</td>\n",
       "      <td>2490.0</td>\n",
       "      <td>5978</td>\n",
       "      <td>2.0</td>\n",
       "      <td>0</td>\n",
       "      <td>0</td>\n",
       "      <td>...</td>\n",
       "      <td>9</td>\n",
       "      <td>2490</td>\n",
       "      <td>0</td>\n",
       "      <td>2003</td>\n",
       "      <td>0</td>\n",
       "      <td>98074</td>\n",
       "      <td>47.6298</td>\n",
       "      <td>-122.022</td>\n",
       "      <td>2710.0</td>\n",
       "      <td>6629.0</td>\n",
       "    </tr>\n",
       "    <tr>\n",
       "      <th>2</th>\n",
       "      <td>5700002325</td>\n",
       "      <td>20140605T000000</td>\n",
       "      <td>640000.0</td>\n",
       "      <td>3.0</td>\n",
       "      <td>1.75</td>\n",
       "      <td>2340.0</td>\n",
       "      <td>4206</td>\n",
       "      <td>1.0</td>\n",
       "      <td>0</td>\n",
       "      <td>0</td>\n",
       "      <td>...</td>\n",
       "      <td>7</td>\n",
       "      <td>1170</td>\n",
       "      <td>1170</td>\n",
       "      <td>1917</td>\n",
       "      <td>0</td>\n",
       "      <td>98144</td>\n",
       "      <td>47.5759</td>\n",
       "      <td>-122.288</td>\n",
       "      <td>1360.0</td>\n",
       "      <td>4725.0</td>\n",
       "    </tr>\n",
       "    <tr>\n",
       "      <th>3</th>\n",
       "      <td>0475000510</td>\n",
       "      <td>20141118T000000</td>\n",
       "      <td>594000.0</td>\n",
       "      <td>3.0</td>\n",
       "      <td>1.00</td>\n",
       "      <td>1320.0</td>\n",
       "      <td>5000</td>\n",
       "      <td>1.0</td>\n",
       "      <td>0</td>\n",
       "      <td>0</td>\n",
       "      <td>...</td>\n",
       "      <td>7</td>\n",
       "      <td>1090</td>\n",
       "      <td>230</td>\n",
       "      <td>1920</td>\n",
       "      <td>0</td>\n",
       "      <td>98107</td>\n",
       "      <td>47.6674</td>\n",
       "      <td>-122.365</td>\n",
       "      <td>1700.0</td>\n",
       "      <td>5000.0</td>\n",
       "    </tr>\n",
       "    <tr>\n",
       "      <th>4</th>\n",
       "      <td>0844001052</td>\n",
       "      <td>20150128T000000</td>\n",
       "      <td>365000.0</td>\n",
       "      <td>4.0</td>\n",
       "      <td>2.50</td>\n",
       "      <td>1904.0</td>\n",
       "      <td>8200</td>\n",
       "      <td>2.0</td>\n",
       "      <td>0</td>\n",
       "      <td>0</td>\n",
       "      <td>...</td>\n",
       "      <td>7</td>\n",
       "      <td>1904</td>\n",
       "      <td>0</td>\n",
       "      <td>1999</td>\n",
       "      <td>0</td>\n",
       "      <td>98010</td>\n",
       "      <td>47.3107</td>\n",
       "      <td>-122.001</td>\n",
       "      <td>1560.0</td>\n",
       "      <td>12426.0</td>\n",
       "    </tr>\n",
       "    <tr>\n",
       "      <th>5</th>\n",
       "      <td>2781280290</td>\n",
       "      <td>20150427T000000</td>\n",
       "      <td>305000.0</td>\n",
       "      <td>3.0</td>\n",
       "      <td>2.50</td>\n",
       "      <td>1610.0</td>\n",
       "      <td>3516</td>\n",
       "      <td>2.0</td>\n",
       "      <td>0</td>\n",
       "      <td>0</td>\n",
       "      <td>...</td>\n",
       "      <td>8</td>\n",
       "      <td>1610</td>\n",
       "      <td>0</td>\n",
       "      <td>2006</td>\n",
       "      <td>0</td>\n",
       "      <td>98055</td>\n",
       "      <td>47.4491</td>\n",
       "      <td>-122.188</td>\n",
       "      <td>1610.0</td>\n",
       "      <td>3056.0</td>\n",
       "    </tr>\n",
       "    <tr>\n",
       "      <th>6</th>\n",
       "      <td>2214800630</td>\n",
       "      <td>20141105T000000</td>\n",
       "      <td>239950.0</td>\n",
       "      <td>3.0</td>\n",
       "      <td>2.25</td>\n",
       "      <td>1560.0</td>\n",
       "      <td>8280</td>\n",
       "      <td>2.0</td>\n",
       "      <td>0</td>\n",
       "      <td>0</td>\n",
       "      <td>...</td>\n",
       "      <td>7</td>\n",
       "      <td>1560</td>\n",
       "      <td>0</td>\n",
       "      <td>1979</td>\n",
       "      <td>0</td>\n",
       "      <td>98001</td>\n",
       "      <td>47.3393</td>\n",
       "      <td>-122.259</td>\n",
       "      <td>1920.0</td>\n",
       "      <td>8120.0</td>\n",
       "    </tr>\n",
       "    <tr>\n",
       "      <th>7</th>\n",
       "      <td>2114700540</td>\n",
       "      <td>20141021T000000</td>\n",
       "      <td>366000.0</td>\n",
       "      <td>3.0</td>\n",
       "      <td>2.50</td>\n",
       "      <td>1320.0</td>\n",
       "      <td>4320</td>\n",
       "      <td>1.0</td>\n",
       "      <td>0</td>\n",
       "      <td>0</td>\n",
       "      <td>...</td>\n",
       "      <td>6</td>\n",
       "      <td>660</td>\n",
       "      <td>660</td>\n",
       "      <td>1918</td>\n",
       "      <td>0</td>\n",
       "      <td>98106</td>\n",
       "      <td>47.5327</td>\n",
       "      <td>-122.347</td>\n",
       "      <td>1190.0</td>\n",
       "      <td>4200.0</td>\n",
       "    </tr>\n",
       "    <tr>\n",
       "      <th>8</th>\n",
       "      <td>2596400050</td>\n",
       "      <td>20140730T000000</td>\n",
       "      <td>375000.0</td>\n",
       "      <td>3.0</td>\n",
       "      <td>1.00</td>\n",
       "      <td>1960.0</td>\n",
       "      <td>7955</td>\n",
       "      <td>1.0</td>\n",
       "      <td>0</td>\n",
       "      <td>0</td>\n",
       "      <td>...</td>\n",
       "      <td>7</td>\n",
       "      <td>1260</td>\n",
       "      <td>700</td>\n",
       "      <td>1963</td>\n",
       "      <td>0</td>\n",
       "      <td>98177</td>\n",
       "      <td>47.7641</td>\n",
       "      <td>-122.364</td>\n",
       "      <td>1850.0</td>\n",
       "      <td>8219.0</td>\n",
       "    </tr>\n",
       "    <tr>\n",
       "      <th>9</th>\n",
       "      <td>4140900050</td>\n",
       "      <td>20150126T000000</td>\n",
       "      <td>440000.0</td>\n",
       "      <td>4.0</td>\n",
       "      <td>1.75</td>\n",
       "      <td>2180.0</td>\n",
       "      <td>10200</td>\n",
       "      <td>1.0</td>\n",
       "      <td>0</td>\n",
       "      <td>2</td>\n",
       "      <td>...</td>\n",
       "      <td>8</td>\n",
       "      <td>2000</td>\n",
       "      <td>180</td>\n",
       "      <td>1966</td>\n",
       "      <td>0</td>\n",
       "      <td>98028</td>\n",
       "      <td>47.7638</td>\n",
       "      <td>-122.270</td>\n",
       "      <td>2590.0</td>\n",
       "      <td>10445.0</td>\n",
       "    </tr>\n",
       "  </tbody>\n",
       "</table>\n",
       "<p>10 rows × 21 columns</p>\n",
       "</div>"
      ],
      "text/plain": [
       "           id             date     price  bedrooms  bathrooms  sqft_living  \\\n",
       "0  2780400035  20140505T000000  665000.0       4.0       2.50       2800.0   \n",
       "1  1703050500  20150321T000000  645000.0       3.0       2.50       2490.0   \n",
       "2  5700002325  20140605T000000  640000.0       3.0       1.75       2340.0   \n",
       "3  0475000510  20141118T000000  594000.0       3.0       1.00       1320.0   \n",
       "4  0844001052  20150128T000000  365000.0       4.0       2.50       1904.0   \n",
       "5  2781280290  20150427T000000  305000.0       3.0       2.50       1610.0   \n",
       "6  2214800630  20141105T000000  239950.0       3.0       2.25       1560.0   \n",
       "7  2114700540  20141021T000000  366000.0       3.0       2.50       1320.0   \n",
       "8  2596400050  20140730T000000  375000.0       3.0       1.00       1960.0   \n",
       "9  4140900050  20150126T000000  440000.0       4.0       1.75       2180.0   \n",
       "\n",
       "   sqft_lot  floors  waterfront  view  ...  grade  sqft_above  sqft_basement  \\\n",
       "0      5900     1.0           0     0  ...      8        1660           1140   \n",
       "1      5978     2.0           0     0  ...      9        2490              0   \n",
       "2      4206     1.0           0     0  ...      7        1170           1170   \n",
       "3      5000     1.0           0     0  ...      7        1090            230   \n",
       "4      8200     2.0           0     0  ...      7        1904              0   \n",
       "5      3516     2.0           0     0  ...      8        1610              0   \n",
       "6      8280     2.0           0     0  ...      7        1560              0   \n",
       "7      4320     1.0           0     0  ...      6         660            660   \n",
       "8      7955     1.0           0     0  ...      7        1260            700   \n",
       "9     10200     1.0           0     2  ...      8        2000            180   \n",
       "\n",
       "   yr_built  yr_renovated  zipcode      lat     long  sqft_living15  \\\n",
       "0      1963             0    98115  47.6809 -122.286         2580.0   \n",
       "1      2003             0    98074  47.6298 -122.022         2710.0   \n",
       "2      1917             0    98144  47.5759 -122.288         1360.0   \n",
       "3      1920             0    98107  47.6674 -122.365         1700.0   \n",
       "4      1999             0    98010  47.3107 -122.001         1560.0   \n",
       "5      2006             0    98055  47.4491 -122.188         1610.0   \n",
       "6      1979             0    98001  47.3393 -122.259         1920.0   \n",
       "7      1918             0    98106  47.5327 -122.347         1190.0   \n",
       "8      1963             0    98177  47.7641 -122.364         1850.0   \n",
       "9      1966             0    98028  47.7638 -122.270         2590.0   \n",
       "\n",
       "   sqft_lot15  \n",
       "0      5900.0  \n",
       "1      6629.0  \n",
       "2      4725.0  \n",
       "3      5000.0  \n",
       "4     12426.0  \n",
       "5      3056.0  \n",
       "6      8120.0  \n",
       "7      4200.0  \n",
       "8      8219.0  \n",
       "9     10445.0  \n",
       "\n",
       "[10 rows x 21 columns]"
      ]
     },
     "execution_count": 47,
     "metadata": {},
     "output_type": "execute_result"
    }
   ],
   "source": [
    "train_valid_shuffled[0:10]  # rows 0 to 9"
   ]
  },
  {
   "cell_type": "markdown",
   "metadata": {},
   "source": [
    "Now let us extract individual segments with array slicing. Consider the scenario where we group the houses in the `train_valid_shuffled` dataframe into k=10 segments of roughly equal size, with starting and ending indices computed as above.\n",
    "Extract the fourth segment (segment 3) and assign it to a variable called `validation4`."
   ]
  },
  {
   "cell_type": "code",
   "execution_count": 50,
   "metadata": {},
   "outputs": [],
   "source": [
    "validation4 = train_valid_shuffled[5818:7758]"
   ]
  },
  {
   "cell_type": "markdown",
   "metadata": {},
   "source": [
    "To verify that we have the right elements extracted, run the following cell, which computes the average price of the fourth segment. When rounded to nearest whole number, the average should be $559,642."
   ]
  },
  {
   "cell_type": "code",
   "execution_count": 51,
   "metadata": {},
   "outputs": [
    {
     "name": "stdout",
     "output_type": "stream",
     "text": [
      "536234\n"
     ]
    }
   ],
   "source": [
    "# ?¿?¿?¿?\n",
    "print (int(round(validation4['price'].mean(), 0)))"
   ]
  },
  {
   "cell_type": "markdown",
   "metadata": {},
   "source": [
    "After designating one of the k segments as the validation set, we train a model using the rest of the data. To choose the remainder, we slice (0:start) and (end+1:n) of the data and paste them together. SFrame has `append()` method that pastes together two disjoint sets of rows originating from a common dataset. For instance, the following cell pastes together the first and last two rows of the `train_valid_shuffled` dataframe."
   ]
  },
  {
   "cell_type": "code",
   "execution_count": 52,
   "metadata": {},
   "outputs": [
    {
     "name": "stdout",
     "output_type": "stream",
     "text": [
      "               id             date      price  bedrooms  bathrooms  \\\n",
      "0      2780400035  20140505T000000   665000.0       4.0       2.50   \n",
      "1      1703050500  20150321T000000   645000.0       3.0       2.50   \n",
      "19394  4139480190  20140916T000000  1153000.0       3.0       3.25   \n",
      "19395  7237300290  20150326T000000   338000.0       5.0       2.50   \n",
      "\n",
      "       sqft_living  sqft_lot  floors  waterfront  view  ...  grade  \\\n",
      "0           2800.0      5900     1.0           0     0  ...      8   \n",
      "1           2490.0      5978     2.0           0     0  ...      9   \n",
      "19394       3780.0     10623     1.0           0     1  ...     11   \n",
      "19395       2400.0      4496     2.0           0     0  ...      7   \n",
      "\n",
      "       sqft_above  sqft_basement  yr_built  yr_renovated  zipcode      lat  \\\n",
      "0            1660           1140      1963             0    98115  47.6809   \n",
      "1            2490              0      2003             0    98074  47.6298   \n",
      "19394        2650           1130      1999             0    98006  47.5506   \n",
      "19395        2400              0      2004             0    98042  47.3692   \n",
      "\n",
      "          long  sqft_living15  sqft_lot15  \n",
      "0     -122.286         2580.0      5900.0  \n",
      "1     -122.022         2710.0      6629.0  \n",
      "19394 -122.101         3850.0     11170.0  \n",
      "19395 -122.126         1880.0      4319.0  \n",
      "\n",
      "[4 rows x 21 columns]\n"
     ]
    }
   ],
   "source": [
    "n = len(train_valid_shuffled)\n",
    "first_two = train_valid_shuffled[0:2]\n",
    "last_two = train_valid_shuffled[n-2:n]\n",
    "print (first_two.append(last_two))"
   ]
  },
  {
   "cell_type": "markdown",
   "metadata": {},
   "source": [
    "Extract the remainder of the data after *excluding* fourth segment (segment 3) and assign the subset to `train4`."
   ]
  },
  {
   "cell_type": "code",
   "execution_count": 53,
   "metadata": {},
   "outputs": [],
   "source": [
    "train4 = train_valid_shuffled[0:5818].append(train_valid_shuffled[7758:19396])"
   ]
  },
  {
   "cell_type": "markdown",
   "metadata": {},
   "source": [
    "To verify that we have the right elements extracted, run the following cell, which computes the average price of the data with fourth segment excluded. When rounded to nearest whole number, the average should be $536,865."
   ]
  },
  {
   "cell_type": "code",
   "execution_count": 54,
   "metadata": {},
   "outputs": [
    {
     "name": "stdout",
     "output_type": "stream",
     "text": [
      "539450\n"
     ]
    }
   ],
   "source": [
    "print (int(round(train4['price'].mean(), 0)))"
   ]
  },
  {
   "cell_type": "markdown",
   "metadata": {},
   "source": [
    "Now we are ready to implement k-fold cross-validation. Write a function that computes k validation errors by designating each of the k segments as the validation set. It accepts as parameters (i) `k`, (ii) `l2_penalty`, (iii) dataframe, (iv) name of output column (e.g. `price`) and (v) list of feature names. The function returns the average validation error using k segments as validation sets.\n",
    "\n",
    "* For each i in [0, 1, ..., k-1]:\n",
    "  * Compute starting and ending indices of segment i and call 'start' and 'end'\n",
    "  * Form validation set by taking a slice (start:end+1) from the data.\n",
    "  * Form training set by appending slice (end+1:n) to the end of slice (0:start).\n",
    "  * Train a linear model using training set just formed, with a given l2_penalty\n",
    "  * Compute validation error using validation set just formed"
   ]
  },
  {
   "cell_type": "code",
   "execution_count": 75,
   "metadata": {},
   "outputs": [],
   "source": [
    "def k_fold_cross_validation(k, l2_penalty, data, output_name, features_list):\n",
    "    avg = 0;\n",
    "    for i in range(k):\n",
    "        start = int((n*i)/k)\n",
    "        end = int((n*(i+1))/k)\n",
    "        validation_data = data[start:end+1]\n",
    "        training_data = data[0:start].append(data[end+1:len(data)])\n",
    "        model = Ridge(alpha = l2_penalty,normalize=True)\n",
    "        model.fit(training_data[features_list],training_data[output_name].values.reshape(-1,1))\n",
    "        avg =  avg + ((model.predict(validation_data[features_list])-validation_data[output_name].values.reshape(-1,))**2).sum()\n",
    "    return avg/k   "
   ]
  },
  {
   "cell_type": "code",
   "execution_count": null,
   "metadata": {},
   "outputs": [],
   "source": []
  },
  {
   "cell_type": "markdown",
   "metadata": {},
   "source": [
    "Once we have a function to compute the average validation error for a model, we can write a loop to find the model that minimizes the average validation error. Write a loop that does the following:\n",
    "* We will again be aiming to fit a 15th-order polynomial model using the `sqft_living` input\n",
    "* For `l2_penalty` in [10^1, 10^1.5, 10^2, 10^2.5, ..., 10^7] (to get this in Python, you can use this Numpy function: `np.logspace(1, 7, num=13)`.)\n",
    "    * Run 10-fold cross-validation with `l2_penalty`\n",
    "* Report which L2 penalty produced the lowest average validation error.\n",
    "\n",
    "Note: since the degree of the polynomial is now fixed to 15, to make things faster, you should generate polynomial features in advance and re-use them throughout the loop. Make sure to use `train_valid_shuffled` when generating polynomial features!"
   ]
  },
  {
   "cell_type": "code",
   "execution_count": 97,
   "metadata": {},
   "outputs": [
    {
     "name": "stdout",
     "output_type": "stream",
     "text": [
      "L2 penalty: 1000.0 \n",
      " k-fold cross validation:  5.1634688748491635e+17 \n",
      " \n",
      "\n",
      "L2 penalty: 3162.2776601683795 \n",
      " k-fold cross validation:  5.163146697258465e+17 \n",
      " \n",
      "\n",
      "L2 penalty: 10000.0 \n",
      " k-fold cross validation:  5.163117802372159e+17 \n",
      " \n",
      "\n",
      "L2 penalty: 31622.776601683792 \n",
      " k-fold cross validation:  5.163116172858534e+17 \n",
      " \n",
      "\n",
      "L2 penalty: 100000.0 \n",
      " k-fold cross validation:  5.163116415092453e+17 \n",
      " \n",
      "\n",
      "L2 penalty: 316227.7660168379 \n",
      " k-fold cross validation:  5.1631165676613466e+17 \n",
      " \n",
      "\n",
      "L2 penalty: 1000000.0 \n",
      " k-fold cross validation:  5.1631166235114496e+17 \n",
      " \n",
      "\n",
      "L2 penalty: 3162277.6601683795 \n",
      " k-fold cross validation:  5.1631166419333754e+17 \n",
      " \n",
      "\n",
      "L2 penalty: 10000000.0 \n",
      " k-fold cross validation:  5.163116647834966e+17 \n",
      " \n",
      "\n",
      "L2 penalty: 31622776.60168379 \n",
      " k-fold cross validation:  5.163116649708817e+17 \n",
      " \n",
      "\n",
      "L2 penalty: 100000000.0 \n",
      " k-fold cross validation:  5.163116650302143e+17 \n",
      " \n",
      "\n",
      "L2 penalty: 316227766.01683795 \n",
      " k-fold cross validation:  5.1631166504898445e+17 \n",
      " \n",
      "\n",
      "L2 penalty: 1000000000.0 \n",
      " k-fold cross validation:  5.163116650549209e+17 \n",
      " \n",
      "\n",
      "\n",
      " \n",
      " Best L2 penalty:  31622.776601683792 Smaller error:  5.163116172858534e+17\n"
     ]
    }
   ],
   "source": [
    "import numpy as np\n",
    "l2_penalty_values = np.logspace(3, 9, num=13)\n",
    "poly_shuffled = polynomial_sframe(train_valid_shuffled['sqft_living'],15)\n",
    "my_features = poly_shuffled.columns\n",
    "poly_shuffled['price']=train_valid_shuffled['price']\n",
    "cross_validation_error = list()\n",
    "for p in l2_penalty_values:\n",
    "    cvrss = k_fold_cross_validation(10, p, poly_shuffled,'price',my_features )\n",
    "    print (\"L2 penalty:\" ,p,\"\\n\",\"k-fold cross validation: \",cvrss,\"\\n\",\"\\n\")\n",
    "    cross_validation_error.append(cvrss)\n",
    "    \n",
    "# print the minimum:\n",
    "\n",
    "# position of minimum error\n",
    "minimal=cross_validation_error.index(min(cross_validation_error))\n",
    "print(\"\\n\",\"\\n\",\"Best L2 penalty: \",l2_penalty_values[minimal] ,\"Smaller error: \",min(cross_validation_error))"
   ]
  },
  {
   "cell_type": "code",
   "execution_count": null,
   "metadata": {},
   "outputs": [],
   "source": []
  },
  {
   "cell_type": "markdown",
   "metadata": {},
   "source": [
    "***QUIZ QUESTIONS:  What is the best value for the L2 penalty according to 10-fold validation?***"
   ]
  },
  {
   "cell_type": "markdown",
   "metadata": {},
   "source": [
    "You may find it useful to plot the k-fold cross-validation errors you have obtained to better understand the behavior of the method.  "
   ]
  },
  {
   "cell_type": "code",
   "execution_count": 98,
   "metadata": {},
   "outputs": [
    {
     "data": {
      "text/plain": [
       "[<matplotlib.lines.Line2D at 0x7f28f584aa50>]"
      ]
     },
     "execution_count": 98,
     "metadata": {},
     "output_type": "execute_result"
    },
    {
     "data": {
      "image/png": "[encoded data removed]",
      "text/plain": [
       "<Figure size 432x288 with 1 Axes>"
      ]
     },
     "metadata": {
      "needs_background": "light"
     },
     "output_type": "display_data"
    }
   ],
   "source": [
    "# Plot the l2_penalty values in the x axis and the cross-validation error in the y axis.\n",
    "# Using plt.xscale('log') will make your plot more intuitive.\n",
    "\n",
    "plt.xscale('log')\n",
    "plt.plot(l2_penalty_values,cross_validation_error,'.',) # cross validation error is an appended list"
   ]
  },
  {
   "cell_type": "markdown",
   "metadata": {},
   "source": [
    "Once you found the best value for the L2 penalty using cross-validation, it is important to retrain a final model on all of the training data using this value of `l2_penalty`. This way, your final model will be trained on the entire dataset."
   ]
  },
  {
   "cell_type": "code",
   "execution_count": 99,
   "metadata": {},
   "outputs": [
    {
     "data": {
      "text/plain": [
       "Ridge(alpha=31622.776601683792, normalize=True)"
      ]
     },
     "execution_count": 99,
     "metadata": {},
     "output_type": "execute_result"
    }
   ],
   "source": [
    "model_best = Ridge(alpha=l2_penalty_values[3],normalize=True)\n",
    "model_best.fit(poly_shuffled[my_features],poly_shuffled['price'])"
   ]
  },
  {
   "cell_type": "markdown",
   "metadata": {},
   "source": [
    "***QUIZ QUESTION: Using the best L2 penalty found above, train a model using all training data. What is the RSS on the TEST data of the model you learn with this L2 penalty? ***"
   ]
  },
  {
   "cell_type": "code",
   "execution_count": 100,
   "metadata": {},
   "outputs": [
    {
     "name": "stdout",
     "output_type": "stream",
     "text": [
      "284656076598723.1\n"
     ]
    }
   ],
   "source": [
    "poly_test = polynomial_sframe(test['sqft_living'],15)\n",
    "poly_test['price']= test['price']\n",
    "RSS = ((model_best.predict(poly_test[my_features])-poly_test['price'])**2).sum()\n",
    "print (RSS)"
   ]
  },
  {
   "cell_type": "code",
   "execution_count": null,
   "metadata": {},
   "outputs": [],
   "source": []
  }
 ],
 "metadata": {
  "kernelspec": {
   "display_name": "mlsklearn",
   "language": "python",
   "name": "mlsklearn"
  },
  "language_info": {
   "codemirror_mode": {
    "name": "ipython",
    "version": 3
   },
   "file_extension": ".py",
   "mimetype": "text/x-python",
   "name": "python",
   "nbconvert_exporter": "python",
   "pygments_lexer": "ipython3",
   "version": "3.7.7"
  }
 },
 "nbformat": 4,
 "nbformat_minor": 4
}
