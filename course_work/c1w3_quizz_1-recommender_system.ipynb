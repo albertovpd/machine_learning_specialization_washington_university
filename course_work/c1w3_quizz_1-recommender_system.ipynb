{
 "cells": [
  {
   "cell_type": "markdown",
   "metadata": {},
   "source": [
    "Resources:\n",
    "- https://docs.python.org/3/tutorial/datastructures.html#dictionaries\n",
    "- https://apple.github.io/turicreate/docs/api/generated/turicreate.SArray.apply.html?highlight=apply#turicreate.SArray.apply\n",
    "- https://scikit-learn.org/stable/"
   ]
  },
  {
   "cell_type": "markdown",
   "metadata": {},
   "source": [
    "# Analyze Product Sentiment"
   ]
  },
  {
   "cell_type": "code",
   "execution_count": 1,
   "metadata": {},
   "outputs": [],
   "source": [
    "import turicreate\n",
    "import pandas as pd"
   ]
  },
  {
   "cell_type": "markdown",
   "metadata": {},
   "source": [
    "# Read product review data"
   ]
  },
  {
   "cell_type": "code",
   "execution_count": 2,
   "metadata": {},
   "outputs": [],
   "source": [
    "# products = turicreate.SFrame('../input/amazon_baby.sframe')"
   ]
  },
  {
   "cell_type": "markdown",
   "metadata": {},
   "source": [
    "# Explore data"
   ]
  },
  {
   "cell_type": "code",
   "execution_count": 3,
   "metadata": {},
   "outputs": [],
   "source": [
    "# products.head(3)"
   ]
  },
  {
   "cell_type": "code",
   "execution_count": null,
   "metadata": {},
   "outputs": [],
   "source": []
  },
  {
   "cell_type": "markdown",
   "metadata": {},
   "source": [
    "# Task1\n",
    "Use .apply() to build a new feature with the counts for each of the selected_words: In the notebook above, we created a column ‘word_count’ with the word counts for each review. Our first task is to create a new column in the products SFrame with the counts for each selected_word above, and, in the process, we will see how the method .apply() can be used to create new columns in our data (our features) and how to use a Python function, which is an extremely useful concept to grasp!"
   ]
  },
  {
   "cell_type": "code",
   "execution_count": 4,
   "metadata": {},
   "outputs": [],
   "source": [
    "# with turicreate is way easier\n",
    "# products.groupby('name',operations={'count':turicreate.aggregate.COUNT()}).sort('count',ascending=False)"
   ]
  },
  {
   "cell_type": "code",
   "execution_count": 5,
   "metadata": {},
   "outputs": [],
   "source": [
    "# build the column word_count\n",
    "# products['word_count'] = graphlab.text_analytics.count_words(products['review'])"
   ]
  },
  {
   "cell_type": "code",
   "execution_count": 6,
   "metadata": {},
   "outputs": [
    {
     "data": {
      "text/html": [
       "<div>\n",
       "<style scoped>\n",
       "    .dataframe tbody tr th:only-of-type {\n",
       "        vertical-align: middle;\n",
       "    }\n",
       "\n",
       "    .dataframe tbody tr th {\n",
       "        vertical-align: top;\n",
       "    }\n",
       "\n",
       "    .dataframe thead th {\n",
       "        text-align: right;\n",
       "    }\n",
       "</style>\n",
       "<table border=\"1\" class=\"dataframe\">\n",
       "  <thead>\n",
       "    <tr style=\"text-align: right;\">\n",
       "      <th></th>\n",
       "      <th>name</th>\n",
       "      <th>review</th>\n",
       "      <th>rating</th>\n",
       "    </tr>\n",
       "  </thead>\n",
       "  <tbody>\n",
       "    <tr>\n",
       "      <th>0</th>\n",
       "      <td>Planetwise Flannel Wipes</td>\n",
       "      <td>These flannel wipes are OK, but in my opinion ...</td>\n",
       "      <td>3</td>\n",
       "    </tr>\n",
       "    <tr>\n",
       "      <th>1</th>\n",
       "      <td>Planetwise Wipe Pouch</td>\n",
       "      <td>it came early and was not disappointed. i love...</td>\n",
       "      <td>5</td>\n",
       "    </tr>\n",
       "    <tr>\n",
       "      <th>2</th>\n",
       "      <td>Annas Dream Full Quilt with 2 Shams</td>\n",
       "      <td>Very soft and comfortable and warmer than it l...</td>\n",
       "      <td>5</td>\n",
       "    </tr>\n",
       "    <tr>\n",
       "      <th>3</th>\n",
       "      <td>Stop Pacifier Sucking without tears with Thumb...</td>\n",
       "      <td>This is a product well worth the purchase.  I ...</td>\n",
       "      <td>5</td>\n",
       "    </tr>\n",
       "    <tr>\n",
       "      <th>4</th>\n",
       "      <td>Stop Pacifier Sucking without tears with Thumb...</td>\n",
       "      <td>All of my kids have cried non-stop when I trie...</td>\n",
       "      <td>5</td>\n",
       "    </tr>\n",
       "  </tbody>\n",
       "</table>\n",
       "</div>"
      ],
      "text/plain": [
       "                                                name  \\\n",
       "0                           Planetwise Flannel Wipes   \n",
       "1                              Planetwise Wipe Pouch   \n",
       "2                Annas Dream Full Quilt with 2 Shams   \n",
       "3  Stop Pacifier Sucking without tears with Thumb...   \n",
       "4  Stop Pacifier Sucking without tears with Thumb...   \n",
       "\n",
       "                                              review  rating  \n",
       "0  These flannel wipes are OK, but in my opinion ...       3  \n",
       "1  it came early and was not disappointed. i love...       5  \n",
       "2  Very soft and comfortable and warmer than it l...       5  \n",
       "3  This is a product well worth the purchase.  I ...       5  \n",
       "4  All of my kids have cried non-stop when I trie...       5  "
      ]
     },
     "execution_count": 6,
     "metadata": {},
     "output_type": "execute_result"
    }
   ],
   "source": [
    "products = pd.read_csv('../input/amazon_baby.csv')\n",
    "products.head()"
   ]
  },
  {
   "cell_type": "code",
   "execution_count": 7,
   "metadata": {},
   "outputs": [],
   "source": [
    "selected_words = ['awesome', 'great', 'fantastic', 'amazing', 'love', 'horrible', 'bad', 'terrible', 'awful', 'wow', 'hate']"
   ]
  },
  {
   "cell_type": "code",
   "execution_count": 8,
   "metadata": {},
   "outputs": [],
   "source": [
    " # fill in N/A's in the review column. Important step\n",
    "products = products.fillna({'review':''})"
   ]
  },
  {
   "cell_type": "code",
   "execution_count": 9,
   "metadata": {},
   "outputs": [],
   "source": [
    "for word in selected_words:\n",
    "    products[word] = products['review'].apply(lambda text: text.split().count(word))"
   ]
  },
  {
   "cell_type": "code",
   "execution_count": 10,
   "metadata": {},
   "outputs": [
    {
     "data": {
      "text/html": [
       "<div>\n",
       "<style scoped>\n",
       "    .dataframe tbody tr th:only-of-type {\n",
       "        vertical-align: middle;\n",
       "    }\n",
       "\n",
       "    .dataframe tbody tr th {\n",
       "        vertical-align: top;\n",
       "    }\n",
       "\n",
       "    .dataframe thead th {\n",
       "        text-align: right;\n",
       "    }\n",
       "</style>\n",
       "<table border=\"1\" class=\"dataframe\">\n",
       "  <thead>\n",
       "    <tr style=\"text-align: right;\">\n",
       "      <th></th>\n",
       "      <th>name</th>\n",
       "      <th>review</th>\n",
       "      <th>rating</th>\n",
       "      <th>awesome</th>\n",
       "      <th>great</th>\n",
       "      <th>fantastic</th>\n",
       "      <th>amazing</th>\n",
       "      <th>love</th>\n",
       "      <th>horrible</th>\n",
       "      <th>bad</th>\n",
       "      <th>terrible</th>\n",
       "      <th>awful</th>\n",
       "      <th>wow</th>\n",
       "      <th>hate</th>\n",
       "    </tr>\n",
       "  </thead>\n",
       "  <tbody>\n",
       "    <tr>\n",
       "      <th>0</th>\n",
       "      <td>Planetwise Flannel Wipes</td>\n",
       "      <td>These flannel wipes are OK, but in my opinion ...</td>\n",
       "      <td>3</td>\n",
       "      <td>0</td>\n",
       "      <td>0</td>\n",
       "      <td>0</td>\n",
       "      <td>0</td>\n",
       "      <td>0</td>\n",
       "      <td>0</td>\n",
       "      <td>0</td>\n",
       "      <td>0</td>\n",
       "      <td>0</td>\n",
       "      <td>0</td>\n",
       "      <td>0</td>\n",
       "    </tr>\n",
       "    <tr>\n",
       "      <th>1</th>\n",
       "      <td>Planetwise Wipe Pouch</td>\n",
       "      <td>it came early and was not disappointed. i love...</td>\n",
       "      <td>5</td>\n",
       "      <td>0</td>\n",
       "      <td>0</td>\n",
       "      <td>0</td>\n",
       "      <td>0</td>\n",
       "      <td>1</td>\n",
       "      <td>0</td>\n",
       "      <td>0</td>\n",
       "      <td>0</td>\n",
       "      <td>0</td>\n",
       "      <td>0</td>\n",
       "      <td>0</td>\n",
       "    </tr>\n",
       "    <tr>\n",
       "      <th>2</th>\n",
       "      <td>Annas Dream Full Quilt with 2 Shams</td>\n",
       "      <td>Very soft and comfortable and warmer than it l...</td>\n",
       "      <td>5</td>\n",
       "      <td>0</td>\n",
       "      <td>0</td>\n",
       "      <td>0</td>\n",
       "      <td>0</td>\n",
       "      <td>0</td>\n",
       "      <td>0</td>\n",
       "      <td>0</td>\n",
       "      <td>0</td>\n",
       "      <td>0</td>\n",
       "      <td>0</td>\n",
       "      <td>0</td>\n",
       "    </tr>\n",
       "    <tr>\n",
       "      <th>3</th>\n",
       "      <td>Stop Pacifier Sucking without tears with Thumb...</td>\n",
       "      <td>This is a product well worth the purchase.  I ...</td>\n",
       "      <td>5</td>\n",
       "      <td>0</td>\n",
       "      <td>0</td>\n",
       "      <td>0</td>\n",
       "      <td>0</td>\n",
       "      <td>2</td>\n",
       "      <td>0</td>\n",
       "      <td>0</td>\n",
       "      <td>0</td>\n",
       "      <td>0</td>\n",
       "      <td>0</td>\n",
       "      <td>0</td>\n",
       "    </tr>\n",
       "    <tr>\n",
       "      <th>4</th>\n",
       "      <td>Stop Pacifier Sucking without tears with Thumb...</td>\n",
       "      <td>All of my kids have cried non-stop when I trie...</td>\n",
       "      <td>5</td>\n",
       "      <td>0</td>\n",
       "      <td>1</td>\n",
       "      <td>0</td>\n",
       "      <td>0</td>\n",
       "      <td>0</td>\n",
       "      <td>0</td>\n",
       "      <td>0</td>\n",
       "      <td>0</td>\n",
       "      <td>0</td>\n",
       "      <td>0</td>\n",
       "      <td>0</td>\n",
       "    </tr>\n",
       "  </tbody>\n",
       "</table>\n",
       "</div>"
      ],
      "text/plain": [
       "                                                name  \\\n",
       "0                           Planetwise Flannel Wipes   \n",
       "1                              Planetwise Wipe Pouch   \n",
       "2                Annas Dream Full Quilt with 2 Shams   \n",
       "3  Stop Pacifier Sucking without tears with Thumb...   \n",
       "4  Stop Pacifier Sucking without tears with Thumb...   \n",
       "\n",
       "                                              review  rating  awesome  great  \\\n",
       "0  These flannel wipes are OK, but in my opinion ...       3        0      0   \n",
       "1  it came early and was not disappointed. i love...       5        0      0   \n",
       "2  Very soft and comfortable and warmer than it l...       5        0      0   \n",
       "3  This is a product well worth the purchase.  I ...       5        0      0   \n",
       "4  All of my kids have cried non-stop when I trie...       5        0      1   \n",
       "\n",
       "   fantastic  amazing  love  horrible  bad  terrible  awful  wow  hate  \n",
       "0          0        0     0         0    0         0      0    0     0  \n",
       "1          0        0     1         0    0         0      0    0     0  \n",
       "2          0        0     0         0    0         0      0    0     0  \n",
       "3          0        0     2         0    0         0      0    0     0  \n",
       "4          0        0     0         0    0         0      0    0     0  "
      ]
     },
     "execution_count": 10,
     "metadata": {},
     "output_type": "execute_result"
    }
   ],
   "source": [
    "products.head()"
   ]
  },
  {
   "cell_type": "markdown",
   "metadata": {},
   "source": [
    "### question 1 and 2"
   ]
  },
  {
   "cell_type": "code",
   "execution_count": 11,
   "metadata": {},
   "outputs": [
    {
     "name": "stdout",
     "output_type": "stream",
     "text": [
      "('awesome', 1683)\n",
      "('great', 37056)\n",
      "('fantastic', 807)\n",
      "('amazing', 1164)\n",
      "('love', 33667)\n",
      "('horrible', 637)\n",
      "('bad', 3599)\n",
      "('terrible', 659)\n",
      "('awful', 337)\n",
      "('wow', 54)\n",
      "('hate', 1089)\n"
     ]
    }
   ],
   "source": [
    "sorted_words=[]\n",
    "for w in selected_words:\n",
    "    print(w,products[w].sum())"
   ]
  },
  {
   "cell_type": "markdown",
   "metadata": {},
   "source": [
    "# Examining reviews of the jiraffe toy"
   ]
  },
  {
   "cell_type": "code",
   "execution_count": 12,
   "metadata": {},
   "outputs": [
    {
     "data": {
      "text/html": [
       "<div>\n",
       "<style scoped>\n",
       "    .dataframe tbody tr th:only-of-type {\n",
       "        vertical-align: middle;\n",
       "    }\n",
       "\n",
       "    .dataframe tbody tr th {\n",
       "        vertical-align: top;\n",
       "    }\n",
       "\n",
       "    .dataframe thead th {\n",
       "        text-align: right;\n",
       "    }\n",
       "</style>\n",
       "<table border=\"1\" class=\"dataframe\">\n",
       "  <thead>\n",
       "    <tr style=\"text-align: right;\">\n",
       "      <th></th>\n",
       "      <th>name</th>\n",
       "      <th>review</th>\n",
       "      <th>rating</th>\n",
       "      <th>awesome</th>\n",
       "      <th>great</th>\n",
       "      <th>fantastic</th>\n",
       "      <th>amazing</th>\n",
       "      <th>love</th>\n",
       "      <th>horrible</th>\n",
       "      <th>bad</th>\n",
       "      <th>terrible</th>\n",
       "      <th>awful</th>\n",
       "      <th>wow</th>\n",
       "      <th>hate</th>\n",
       "    </tr>\n",
       "  </thead>\n",
       "  <tbody>\n",
       "    <tr>\n",
       "      <th>34313</th>\n",
       "      <td>Vulli Sophie the Giraffe Teether</td>\n",
       "      <td>He likes chewing on all the parts especially t...</td>\n",
       "      <td>5</td>\n",
       "      <td>0</td>\n",
       "      <td>0</td>\n",
       "      <td>0</td>\n",
       "      <td>0</td>\n",
       "      <td>0</td>\n",
       "      <td>0</td>\n",
       "      <td>0</td>\n",
       "      <td>0</td>\n",
       "      <td>0</td>\n",
       "      <td>0</td>\n",
       "      <td>0</td>\n",
       "    </tr>\n",
       "    <tr>\n",
       "      <th>34314</th>\n",
       "      <td>Vulli Sophie the Giraffe Teether</td>\n",
       "      <td>My son loves this toy and fits great in the di...</td>\n",
       "      <td>5</td>\n",
       "      <td>0</td>\n",
       "      <td>1</td>\n",
       "      <td>0</td>\n",
       "      <td>0</td>\n",
       "      <td>0</td>\n",
       "      <td>0</td>\n",
       "      <td>0</td>\n",
       "      <td>0</td>\n",
       "      <td>0</td>\n",
       "      <td>0</td>\n",
       "      <td>0</td>\n",
       "    </tr>\n",
       "    <tr>\n",
       "      <th>34315</th>\n",
       "      <td>Vulli Sophie the Giraffe Teether</td>\n",
       "      <td>There really should be a large warning on the ...</td>\n",
       "      <td>1</td>\n",
       "      <td>0</td>\n",
       "      <td>0</td>\n",
       "      <td>0</td>\n",
       "      <td>0</td>\n",
       "      <td>0</td>\n",
       "      <td>0</td>\n",
       "      <td>0</td>\n",
       "      <td>0</td>\n",
       "      <td>0</td>\n",
       "      <td>0</td>\n",
       "      <td>0</td>\n",
       "    </tr>\n",
       "    <tr>\n",
       "      <th>34316</th>\n",
       "      <td>Vulli Sophie the Giraffe Teether</td>\n",
       "      <td>All the moms in my moms\\' group got Sophie for...</td>\n",
       "      <td>5</td>\n",
       "      <td>0</td>\n",
       "      <td>0</td>\n",
       "      <td>0</td>\n",
       "      <td>0</td>\n",
       "      <td>1</td>\n",
       "      <td>0</td>\n",
       "      <td>0</td>\n",
       "      <td>0</td>\n",
       "      <td>0</td>\n",
       "      <td>0</td>\n",
       "      <td>0</td>\n",
       "    </tr>\n",
       "    <tr>\n",
       "      <th>34317</th>\n",
       "      <td>Vulli Sophie the Giraffe Teether</td>\n",
       "      <td>I was a little skeptical on whether Sophie was...</td>\n",
       "      <td>5</td>\n",
       "      <td>0</td>\n",
       "      <td>0</td>\n",
       "      <td>0</td>\n",
       "      <td>0</td>\n",
       "      <td>0</td>\n",
       "      <td>0</td>\n",
       "      <td>0</td>\n",
       "      <td>0</td>\n",
       "      <td>0</td>\n",
       "      <td>0</td>\n",
       "      <td>0</td>\n",
       "    </tr>\n",
       "  </tbody>\n",
       "</table>\n",
       "</div>"
      ],
      "text/plain": [
       "                                   name  \\\n",
       "34313  Vulli Sophie the Giraffe Teether   \n",
       "34314  Vulli Sophie the Giraffe Teether   \n",
       "34315  Vulli Sophie the Giraffe Teether   \n",
       "34316  Vulli Sophie the Giraffe Teether   \n",
       "34317  Vulli Sophie the Giraffe Teether   \n",
       "\n",
       "                                                  review  rating  awesome  \\\n",
       "34313  He likes chewing on all the parts especially t...       5        0   \n",
       "34314  My son loves this toy and fits great in the di...       5        0   \n",
       "34315  There really should be a large warning on the ...       1        0   \n",
       "34316  All the moms in my moms\\' group got Sophie for...       5        0   \n",
       "34317  I was a little skeptical on whether Sophie was...       5        0   \n",
       "\n",
       "       great  fantastic  amazing  love  horrible  bad  terrible  awful  wow  \\\n",
       "34313      0          0        0     0         0    0         0      0    0   \n",
       "34314      1          0        0     0         0    0         0      0    0   \n",
       "34315      0          0        0     0         0    0         0      0    0   \n",
       "34316      0          0        0     1         0    0         0      0    0   \n",
       "34317      0          0        0     0         0    0         0      0    0   \n",
       "\n",
       "       hate  \n",
       "34313     0  \n",
       "34314     0  \n",
       "34315     0  \n",
       "34316     0  \n",
       "34317     0  "
      ]
     },
     "execution_count": 12,
     "metadata": {},
     "output_type": "execute_result"
    }
   ],
   "source": [
    "giraffe_reviews = products[products['name'] == 'Vulli Sophie the Giraffe Teether']\n",
    "giraffe_reviews.head()"
   ]
  },
  {
   "cell_type": "markdown",
   "metadata": {},
   "source": [
    "# Define what is positive and negative sentiment"
   ]
  },
  {
   "cell_type": "code",
   "execution_count": 13,
   "metadata": {},
   "outputs": [],
   "source": [
    "#ignore all 3*  reviews. We will ignore all reviews with rating = 3, since they tend to have a neutral sentiment. \n",
    "# Reviews with a rating of 4 or higher will be considered positive, while the ones with rating of 2 or lower will \n",
    "# have a negative sentiment.\n",
    "\n",
    "products = products[products['rating']!= 3]"
   ]
  },
  {
   "cell_type": "code",
   "execution_count": 14,
   "metadata": {},
   "outputs": [
    {
     "data": {
      "text/plain": [
       "count    166752.000000\n",
       "mean          4.233191\n",
       "std           1.295527\n",
       "min           1.000000\n",
       "25%           4.000000\n",
       "50%           5.000000\n",
       "75%           5.000000\n",
       "max           5.000000\n",
       "Name: rating, dtype: float64"
      ]
     },
     "execution_count": 14,
     "metadata": {},
     "output_type": "execute_result"
    }
   ],
   "source": [
    "products.rating.describe()"
   ]
  },
  {
   "cell_type": "code",
   "execution_count": 17,
   "metadata": {},
   "outputs": [],
   "source": [
    "#positive sentiment = 4* or 5* reviews. with this we'll make a binary classification\n",
    "products['sentiment'] = products['rating'].apply(lambda rating : +1 if rating > 3 else -1)"
   ]
  },
  {
   "cell_type": "code",
   "execution_count": 20,
   "metadata": {},
   "outputs": [
    {
     "data": {
      "text/plain": [
       " 1    140259\n",
       "-1     26493\n",
       "Name: sentiment, dtype: int64"
      ]
     },
     "execution_count": 20,
     "metadata": {},
     "output_type": "execute_result"
    }
   ],
   "source": [
    "# !! \n",
    "products.sentiment.value_counts()"
   ]
  },
  {
   "cell_type": "code",
   "execution_count": null,
   "metadata": {},
   "outputs": [],
   "source": [
    "# highly skeweed"
   ]
  },
  {
   "cell_type": "markdown",
   "metadata": {},
   "source": [
    "# Train our sentiment classifier"
   ]
  },
  {
   "cell_type": "code",
   "execution_count": 21,
   "metadata": {},
   "outputs": [],
   "source": [
    "import numpy as np\n",
    "from sklearn.model_selection import train_test_split\n",
    "train_data , test_data = train_test_split(products,test_size=0.2,random_state=42) #this function already  merges the dataset before spitting"
   ]
  },
  {
   "cell_type": "code",
   "execution_count": 22,
   "metadata": {},
   "outputs": [
    {
     "data": {
      "text/plain": [
       "(133401, 15)"
      ]
     },
     "execution_count": 22,
     "metadata": {},
     "output_type": "execute_result"
    }
   ],
   "source": [
    "train_data.shape"
   ]
  },
  {
   "cell_type": "code",
   "execution_count": 23,
   "metadata": {},
   "outputs": [
    {
     "data": {
      "text/plain": [
       "(33351, 15)"
      ]
     },
     "execution_count": 23,
     "metadata": {},
     "output_type": "execute_result"
    }
   ],
   "source": [
    "test_data.shape"
   ]
  },
  {
   "cell_type": "code",
   "execution_count": 24,
   "metadata": {},
   "outputs": [],
   "source": [
    "#Step 1. Import the model I want to use\n",
    "from sklearn.linear_model import LogisticRegression\n",
    "\n",
    "#Step 2. Make an instance of the Model\n",
    "logisticRegr = LogisticRegression()\n",
    "#logisticRegr2 = linear_model.LogisticRegression()\n",
    "\n",
    "#Step 3. Training the model on the data, storing the information learned from the data\n",
    "selected_words_model = logisticRegr.fit(train_data[selected_words], train_data['sentiment'])"
   ]
  },
  {
   "cell_type": "markdown",
   "metadata": {},
   "source": [
    "### 3. Out of the 11 words in selected_words, which one got the most positive weight in the selected_words_model?\n",
    "\n",
    "### 4. Out of the 11 words in selected_words, which one got the most negative weight in the selected_words_model?"
   ]
  },
  {
   "cell_type": "code",
   "execution_count": 26,
   "metadata": {},
   "outputs": [
    {
     "data": {
      "text/plain": [
       "array([ 0.8154788 ,  0.72506839,  0.73230086,  0.80352209,  1.34444403,\n",
       "       -1.71696588, -0.95817482, -1.95267992, -1.61337755, -0.10502929,\n",
       "       -1.43882078])"
      ]
     },
     "execution_count": 26,
     "metadata": {},
     "output_type": "execute_result"
    }
   ],
   "source": [
    "selected_words_model.coef_[0]"
   ]
  },
  {
   "cell_type": "code",
   "execution_count": 29,
   "metadata": {},
   "outputs": [
    {
     "data": {
      "text/html": [
       "<div>\n",
       "<style scoped>\n",
       "    .dataframe tbody tr th:only-of-type {\n",
       "        vertical-align: middle;\n",
       "    }\n",
       "\n",
       "    .dataframe tbody tr th {\n",
       "        vertical-align: top;\n",
       "    }\n",
       "\n",
       "    .dataframe thead th {\n",
       "        text-align: right;\n",
       "    }\n",
       "</style>\n",
       "<table border=\"1\" class=\"dataframe\">\n",
       "  <thead>\n",
       "    <tr style=\"text-align: right;\">\n",
       "      <th></th>\n",
       "      <th>feature</th>\n",
       "      <th>weight</th>\n",
       "    </tr>\n",
       "  </thead>\n",
       "  <tbody>\n",
       "    <tr>\n",
       "      <th>4</th>\n",
       "      <td>love</td>\n",
       "      <td>1.344444</td>\n",
       "    </tr>\n",
       "    <tr>\n",
       "      <th>0</th>\n",
       "      <td>awesome</td>\n",
       "      <td>0.815479</td>\n",
       "    </tr>\n",
       "    <tr>\n",
       "      <th>3</th>\n",
       "      <td>amazing</td>\n",
       "      <td>0.803522</td>\n",
       "    </tr>\n",
       "    <tr>\n",
       "      <th>2</th>\n",
       "      <td>fantastic</td>\n",
       "      <td>0.732301</td>\n",
       "    </tr>\n",
       "    <tr>\n",
       "      <th>1</th>\n",
       "      <td>great</td>\n",
       "      <td>0.725068</td>\n",
       "    </tr>\n",
       "    <tr>\n",
       "      <th>9</th>\n",
       "      <td>wow</td>\n",
       "      <td>-0.105029</td>\n",
       "    </tr>\n",
       "    <tr>\n",
       "      <th>6</th>\n",
       "      <td>bad</td>\n",
       "      <td>-0.958175</td>\n",
       "    </tr>\n",
       "    <tr>\n",
       "      <th>10</th>\n",
       "      <td>hate</td>\n",
       "      <td>-1.438821</td>\n",
       "    </tr>\n",
       "    <tr>\n",
       "      <th>8</th>\n",
       "      <td>awful</td>\n",
       "      <td>-1.613378</td>\n",
       "    </tr>\n",
       "    <tr>\n",
       "      <th>5</th>\n",
       "      <td>horrible</td>\n",
       "      <td>-1.716966</td>\n",
       "    </tr>\n",
       "    <tr>\n",
       "      <th>7</th>\n",
       "      <td>terrible</td>\n",
       "      <td>-1.952680</td>\n",
       "    </tr>\n",
       "  </tbody>\n",
       "</table>\n",
       "</div>"
      ],
      "text/plain": [
       "      feature    weight\n",
       "4        love  1.344444\n",
       "0     awesome  0.815479\n",
       "3     amazing  0.803522\n",
       "2   fantastic  0.732301\n",
       "1       great  0.725068\n",
       "9         wow -0.105029\n",
       "6         bad -0.958175\n",
       "10       hate -1.438821\n",
       "8       awful -1.613378\n",
       "5    horrible -1.716966\n",
       "7    terrible -1.952680"
      ]
     },
     "execution_count": 29,
     "metadata": {},
     "output_type": "execute_result"
    }
   ],
   "source": [
    "feature_weight = pd.DataFrame(\n",
    "    {'feature': selected_words,\n",
    "     'weight': selected_words_model.coef_[0]\n",
    "    })\n",
    "feature_weight.sort_values(by=[\"weight\"],inplace=True, ascending=False)\n",
    "feature_weight"
   ]
  },
  {
   "cell_type": "markdown",
   "metadata": {},
   "source": [
    "### 5. Which of the following ranges contains the accuracy of the selected_words_model on the test_data?"
   ]
  },
  {
   "cell_type": "code",
   "execution_count": 33,
   "metadata": {},
   "outputs": [
    {
     "name": "stdout",
     "output_type": "stream",
     "text": [
      "('accuracy of selected words model is', 0.8443824772870379)\n"
     ]
    }
   ],
   "source": [
    "from sklearn.metrics import accuracy_score\n",
    "y_pred_selected_words = selected_words_model.predict(test_data[selected_words])\n",
    "y_true_selected_words = test_data['sentiment']\n",
    "accuracy_score(y_true_selected_words, y_pred_selected_words)\n",
    "print('accuracy of selected words model is',accuracy_score(y_true_selected_words, y_pred_selected_words))"
   ]
  },
  {
   "cell_type": "code",
   "execution_count": 31,
   "metadata": {},
   "outputs": [],
   "source": [
    "# imbalanced dataset... accuracy is not a good metric"
   ]
  },
  {
   "cell_type": "markdown",
   "metadata": {},
   "source": [
    "### 6. Which of the following ranges contains the accuracy of the sentiment_model in the IPython Notebook from lecture on the test_data?"
   ]
  },
  {
   "cell_type": "code",
   "execution_count": 36,
   "metadata": {},
   "outputs": [],
   "source": [
    "# We will now compute the word count for each word that appears in the reviews.\n",
    "from sklearn.feature_extraction.text import CountVectorizer\n",
    "\n",
    "vectorizer = CountVectorizer(token_pattern=r'\\b\\w+\\b')\n",
    "     # Use this token pattern to keep single-letter words\n",
    "# First, learn vocabulary from the training data and assign columns to words\n",
    "# Then convert the training data into a sparse matrix\n",
    "train_matrix = vectorizer.fit_transform(train_data['review'])\n",
    "\n",
    "# Second, convert the test data into a sparse matrix, using the same word-column mapping\n",
    "test_matrix = vectorizer.transform(test_data['review'])"
   ]
  },
  {
   "cell_type": "code",
   "execution_count": 37,
   "metadata": {},
   "outputs": [
    {
     "data": {
      "text/plain": [
       "(133401, 57522)"
      ]
     },
     "execution_count": 37,
     "metadata": {},
     "output_type": "execute_result"
    }
   ],
   "source": [
    "train_matrix.shape"
   ]
  },
  {
   "cell_type": "code",
   "execution_count": 38,
   "metadata": {},
   "outputs": [
    {
     "data": {
      "text/plain": [
       "(33351, 57522)"
      ]
     },
     "execution_count": 38,
     "metadata": {},
     "output_type": "execute_result"
    }
   ],
   "source": [
    "test_matrix.shape"
   ]
  },
  {
   "cell_type": "code",
   "execution_count": 39,
   "metadata": {},
   "outputs": [],
   "source": [
    "# Training the model on the data, storing the information learned from the data\n",
    "sentiment_model = LogisticRegression().fit(train_matrix, train_data['sentiment'])"
   ]
  },
  {
   "cell_type": "code",
   "execution_count": 40,
   "metadata": {},
   "outputs": [
    {
     "name": "stdout",
     "output_type": "stream",
     "text": [
      "('answer: the accuracy of sentiment model is', 0.9351743575904771)\n"
     ]
    }
   ],
   "source": [
    "y_pred_sentiment_model = sentiment_model.predict(test_matrix)\n",
    "y_true_sentiment_model = test_data['sentiment']\n",
    "accuracy_score(y_pred_sentiment_model, y_true_sentiment_model)\n",
    "print('accuracy of sentiment model is',accuracy_score(y_pred_sentiment_model, y_true_sentiment_model))"
   ]
  },
  {
   "cell_type": "markdown",
   "metadata": {},
   "source": [
    "### 7. Which of the following ranges contains the accuracy of the majority class classifier, which simply predicts the majority class on the test_data?"
   ]
  },
  {
   "cell_type": "code",
   "execution_count": 60,
   "metadata": {},
   "outputs": [
    {
     "name": "stdout",
     "output_type": "stream",
     "text": [
      "('positive_train: 112182', 'negative_train: 21219')\n"
     ]
    }
   ],
   "source": [
    "# the majority of train data\n",
    "num_positive_train  = (train_data['sentiment'] == +1).sum()\n",
    "num_negative_train = (train_data['sentiment'] == -1).sum()\n",
    "print (\"positive_train: {}\".format(num_positive_train), \n",
    "       \"negative_train: {}\".format(num_negative_train))\n"
   ]
  },
  {
   "cell_type": "code",
   "execution_count": 61,
   "metadata": {},
   "outputs": [
    {
     "name": "stdout",
     "output_type": "stream",
     "text": [
      "(28077, 5274)\n"
     ]
    }
   ],
   "source": [
    "num_positive_test  = (test_data['sentiment'] == +1).sum()\n",
    "num_negative_test = (test_data['sentiment'] == -1).sum()\n",
    "print(num_positive_test, num_negative_test)"
   ]
  },
  {
   "cell_type": "code",
   "execution_count": 62,
   "metadata": {},
   "outputs": [],
   "source": [
    "print(num_positive_test/(num_positive_test+num_negative_test))\n",
    "#wtf"
   ]
  },
  {
   "cell_type": "markdown",
   "metadata": {},
   "source": [
    "### 8. How do you compare the different learned models with the baseline approach where we are just predicting the majority class?"
   ]
  },
  {
   "cell_type": "markdown",
   "metadata": {},
   "source": [
    "### 9. Which of the following ranges contains the ‘predicted_sentiment’ for the most positive review for ‘Baby Trend Diaper Champ’, according to the sentiment_model from the IPython Notebook from lecture?"
   ]
  },
  {
   "cell_type": "code",
   "execution_count": 63,
   "metadata": {},
   "outputs": [
    {
     "data": {
      "text/plain": [
       "382    I changed my registry from the Diaper Genie to...\n",
       "387    So far so good.  I was using the cheapie pail....\n",
       "528    As a Mother of 9 month old twins, I go through...\n",
       "353    In reading some of the other reviews, I think ...\n",
       "455    We put a Diaper Genie on the shower list for t...\n",
       "404    I love the diaper champ.  I registered for thi...\n",
       "571    We did alot of research on diaper pails before...\n",
       "643    I\\'ve read all of the reviews of those of you ...\n",
       "512    Bottom line: Using regular bags saves big time...\n",
       "541    This was great for first 5 months of my baby g...\n",
       "325    We bought this pail because it used regular tr...\n",
       "523    We researched all of the different types of di...\n",
       "458    I\\'m SO glad that we asked the sales associate...\n",
       "428    I got this for my daughter and I just think it...\n",
       "572    We registered for the diaper champ after compa...\n",
       "415    This is a wonderful product.  One suggestion t...\n",
       "548    This is one of the best things that we got as ...\n",
       "347    I\\'ve been using this diaper pail for 2 and 1/...\n",
       "564    This product has been great.  It\\'s easy to us...\n",
       "419    As much as I hear you all on the Diaper Champ ...\n",
       "558    While the diaper champ is not perfect, it is r...\n",
       "356    This product meets all my expectations. The di...\n",
       "606    We like our diaper champ because you don\\'t ha...\n",
       "330    Although I had a Diaper Genie from my first ch...\n",
       "562    I researched all the available options and dec...\n",
       "619    I am the mother of 9 children and this is the ...\n",
       "476    I have had a great experience with this produc...\n",
       "635    my son is now 3 months old and when he was bor...\n",
       "627    I have been using the Diaper Champ for the pas...\n",
       "324    This is the very best. So much better than Dia...\n",
       "                             ...                        \n",
       "336    My husband & I had received a tip from another...\n",
       "432    I love the Diaper Champ. I fought with the Dia...\n",
       "417    The best feature is that you can use your own ...\n",
       "563    My husband and I love the Diaper Champ - it ma...\n",
       "434    This is an excellent idea having the lid to di...\n",
       "608    I paid $39.99 for this on Amazon and could hav...\n",
       "354    I Loved this product. It kept smell to a minim...\n",
       "329    I LOVE LOVE LOVE this product! It is SO much e...\n",
       "578    I have to agree with the other moms. At first ...\n",
       "574    My husband and I decided to buy this because w...\n",
       "344    This is on my list of must haves.  The thing h...\n",
       "332    We loved this pail at first. The mechanism see...\n",
       "461    After using this for 3 years, I still stunned ...\n",
       "462    I loved this compared to the genie. It is easi...\n",
       "358    I purchased this pail about a year ago and fou...\n",
       "509    My husband and I wanted this style (vs. the Di...\n",
       "479    My son is now 5 mo. and overall, I\\'m happy wi...\n",
       "338    We originally had the diaper genie which we fo...\n",
       "489    I registered for this product after reading th...\n",
       "486    This is my second child. With my first, I went...\n",
       "482    I was given the Diaper Geni and after a week o...\n",
       "621    Unlike others, the Diaper Champ uses standard ...\n",
       "602    If you wrap up the diaper with the tape, it ke...\n",
       "483    I got this pail because I felt it was good tha...\n",
       "538    I chose this pail because I didn\\'t want to sp...\n",
       "638    I recieved this pail as a gift and loved the i...\n",
       "398    When our daughter was born we bought the diape...\n",
       "322    We had 2 diaper Genie\\'s both given to us as a...\n",
       "525    I laughed when my husband wanted this product....\n",
       "443    The Diaper Champ is difficult to use and does ...\n",
       "Name: review, Length: 64, dtype: object"
      ]
     },
     "execution_count": 63,
     "metadata": {},
     "output_type": "execute_result"
    }
   ],
   "source": [
    "diaper_champ_reviews = test_data[test_data['name'] == 'Baby Trend Diaper Champ']\n",
    "diaper_champ_reviews['review']"
   ]
  },
  {
   "cell_type": "code",
   "execution_count": 64,
   "metadata": {},
   "outputs": [],
   "source": [
    "# use the sentiment_model to predict the sentiment of each review in diaper_champ_reviews and sort the results \n",
    "# according to their ‘predicted_sentiment’.\n"
   ]
  },
  {
   "cell_type": "code",
   "execution_count": 66,
   "metadata": {},
   "outputs": [
    {
     "data": {
      "text/plain": [
       "<64x57522 sparse matrix of type '<type 'numpy.int64'>'\n",
       "\twith 5080 stored elements in Compressed Sparse Row format>"
      ]
     },
     "execution_count": 66,
     "metadata": {},
     "output_type": "execute_result"
    }
   ],
   "source": [
    "test_matrix_diaper_champ = vectorizer.transform(diaper_champ_reviews['review'])\n",
    "test_matrix_diaper_champ"
   ]
  },
  {
   "cell_type": "code",
   "execution_count": 67,
   "metadata": {},
   "outputs": [
    {
     "data": {
      "text/plain": [
       "64"
      ]
     },
     "execution_count": 67,
     "metadata": {},
     "output_type": "execute_result"
    }
   ],
   "source": [
    "diaper_sentiment_model_pred_proba = sentiment_model.predict_proba(test_matrix_diaper_champ)\n",
    "diaper_sentiment_model_pred = sentiment_model.predict(test_matrix_diaper_champ)\n",
    "len(diaper_sentiment_model_pred_proba[:,1])"
   ]
  },
  {
   "cell_type": "code",
   "execution_count": 68,
   "metadata": {},
   "outputs": [],
   "source": [
    "diaper_review_sentiment_pred_proba = pd.DataFrame(\n",
    "    {'review_clean': diaper_champ_reviews['review'],\n",
    "     'predicted_sentiment_prob': diaper_sentiment_model_pred_proba[:,1].tolist(),\n",
    "     'predicted_sentiment': diaper_sentiment_model_pred.tolist()\n",
    "    })"
   ]
  },
  {
   "cell_type": "code",
   "execution_count": 69,
   "metadata": {},
   "outputs": [
    {
     "data": {
      "text/html": [
       "<div>\n",
       "<style scoped>\n",
       "    .dataframe tbody tr th:only-of-type {\n",
       "        vertical-align: middle;\n",
       "    }\n",
       "\n",
       "    .dataframe tbody tr th {\n",
       "        vertical-align: top;\n",
       "    }\n",
       "\n",
       "    .dataframe thead th {\n",
       "        text-align: right;\n",
       "    }\n",
       "</style>\n",
       "<table border=\"1\" class=\"dataframe\">\n",
       "  <thead>\n",
       "    <tr style=\"text-align: right;\">\n",
       "      <th></th>\n",
       "      <th>predicted_sentiment</th>\n",
       "      <th>predicted_sentiment_prob</th>\n",
       "      <th>review_clean</th>\n",
       "    </tr>\n",
       "  </thead>\n",
       "  <tbody>\n",
       "    <tr>\n",
       "      <th>571</th>\n",
       "      <td>1</td>\n",
       "      <td>0.999999</td>\n",
       "      <td>We did alot of research on diaper pails before...</td>\n",
       "    </tr>\n",
       "    <tr>\n",
       "      <th>330</th>\n",
       "      <td>1</td>\n",
       "      <td>0.999993</td>\n",
       "      <td>Although I had a Diaper Genie from my first ch...</td>\n",
       "    </tr>\n",
       "    <tr>\n",
       "      <th>635</th>\n",
       "      <td>1</td>\n",
       "      <td>0.999987</td>\n",
       "      <td>my son is now 3 months old and when he was bor...</td>\n",
       "    </tr>\n",
       "    <tr>\n",
       "      <th>548</th>\n",
       "      <td>1</td>\n",
       "      <td>0.999985</td>\n",
       "      <td>This is one of the best things that we got as ...</td>\n",
       "    </tr>\n",
       "    <tr>\n",
       "      <th>428</th>\n",
       "      <td>1</td>\n",
       "      <td>0.999963</td>\n",
       "      <td>I got this for my daughter and I just think it...</td>\n",
       "    </tr>\n",
       "    <tr>\n",
       "      <th>458</th>\n",
       "      <td>1</td>\n",
       "      <td>0.999962</td>\n",
       "      <td>I\\'m SO glad that we asked the sales associate...</td>\n",
       "    </tr>\n",
       "    <tr>\n",
       "      <th>509</th>\n",
       "      <td>1</td>\n",
       "      <td>0.999959</td>\n",
       "      <td>My husband and I wanted this style (vs. the Di...</td>\n",
       "    </tr>\n",
       "    <tr>\n",
       "      <th>512</th>\n",
       "      <td>1</td>\n",
       "      <td>0.999936</td>\n",
       "      <td>Bottom line: Using regular bags saves big time...</td>\n",
       "    </tr>\n",
       "    <tr>\n",
       "      <th>528</th>\n",
       "      <td>1</td>\n",
       "      <td>0.999933</td>\n",
       "      <td>As a Mother of 9 month old twins, I go through...</td>\n",
       "    </tr>\n",
       "    <tr>\n",
       "      <th>329</th>\n",
       "      <td>1</td>\n",
       "      <td>0.999922</td>\n",
       "      <td>I LOVE LOVE LOVE this product! It is SO much e...</td>\n",
       "    </tr>\n",
       "    <tr>\n",
       "      <th>353</th>\n",
       "      <td>1</td>\n",
       "      <td>0.999900</td>\n",
       "      <td>In reading some of the other reviews, I think ...</td>\n",
       "    </tr>\n",
       "    <tr>\n",
       "      <th>523</th>\n",
       "      <td>1</td>\n",
       "      <td>0.999849</td>\n",
       "      <td>We researched all of the different types of di...</td>\n",
       "    </tr>\n",
       "    <tr>\n",
       "      <th>417</th>\n",
       "      <td>1</td>\n",
       "      <td>0.999635</td>\n",
       "      <td>The best feature is that you can use your own ...</td>\n",
       "    </tr>\n",
       "    <tr>\n",
       "      <th>404</th>\n",
       "      <td>1</td>\n",
       "      <td>0.999532</td>\n",
       "      <td>I love the diaper champ.  I registered for thi...</td>\n",
       "    </tr>\n",
       "    <tr>\n",
       "      <th>486</th>\n",
       "      <td>1</td>\n",
       "      <td>0.999512</td>\n",
       "      <td>This is my second child. With my first, I went...</td>\n",
       "    </tr>\n",
       "    <tr>\n",
       "      <th>534</th>\n",
       "      <td>1</td>\n",
       "      <td>0.999284</td>\n",
       "      <td>Wow!  This is fabulous.  It was a toss-up betw...</td>\n",
       "    </tr>\n",
       "    <tr>\n",
       "      <th>574</th>\n",
       "      <td>1</td>\n",
       "      <td>0.998972</td>\n",
       "      <td>My husband and I decided to buy this because w...</td>\n",
       "    </tr>\n",
       "    <tr>\n",
       "      <th>322</th>\n",
       "      <td>1</td>\n",
       "      <td>0.998769</td>\n",
       "      <td>We had 2 diaper Genie\\'s both given to us as a...</td>\n",
       "    </tr>\n",
       "    <tr>\n",
       "      <th>564</th>\n",
       "      <td>1</td>\n",
       "      <td>0.998719</td>\n",
       "      <td>This product has been great.  It\\'s easy to us...</td>\n",
       "    </tr>\n",
       "    <tr>\n",
       "      <th>347</th>\n",
       "      <td>1</td>\n",
       "      <td>0.998704</td>\n",
       "      <td>I\\'ve been using this diaper pail for 2 and 1/...</td>\n",
       "    </tr>\n",
       "    <tr>\n",
       "      <th>558</th>\n",
       "      <td>1</td>\n",
       "      <td>0.998647</td>\n",
       "      <td>While the diaper champ is not perfect, it is r...</td>\n",
       "    </tr>\n",
       "    <tr>\n",
       "      <th>356</th>\n",
       "      <td>1</td>\n",
       "      <td>0.998031</td>\n",
       "      <td>This product meets all my expectations. The di...</td>\n",
       "    </tr>\n",
       "    <tr>\n",
       "      <th>382</th>\n",
       "      <td>1</td>\n",
       "      <td>0.998023</td>\n",
       "      <td>I changed my registry from the Diaper Genie to...</td>\n",
       "    </tr>\n",
       "    <tr>\n",
       "      <th>607</th>\n",
       "      <td>1</td>\n",
       "      <td>0.997734</td>\n",
       "      <td>This is a great diaper pail, easy to use and k...</td>\n",
       "    </tr>\n",
       "    <tr>\n",
       "      <th>563</th>\n",
       "      <td>1</td>\n",
       "      <td>0.996783</td>\n",
       "      <td>My husband and I love the Diaper Champ - it ma...</td>\n",
       "    </tr>\n",
       "    <tr>\n",
       "      <th>572</th>\n",
       "      <td>1</td>\n",
       "      <td>0.995138</td>\n",
       "      <td>We registered for the diaper champ after compa...</td>\n",
       "    </tr>\n",
       "    <tr>\n",
       "      <th>627</th>\n",
       "      <td>1</td>\n",
       "      <td>0.993911</td>\n",
       "      <td>I have been using the Diaper Champ for the pas...</td>\n",
       "    </tr>\n",
       "    <tr>\n",
       "      <th>621</th>\n",
       "      <td>1</td>\n",
       "      <td>0.993207</td>\n",
       "      <td>Unlike others, the Diaper Champ uses standard ...</td>\n",
       "    </tr>\n",
       "    <tr>\n",
       "      <th>643</th>\n",
       "      <td>1</td>\n",
       "      <td>0.990033</td>\n",
       "      <td>I\\'ve read all of the reviews of those of you ...</td>\n",
       "    </tr>\n",
       "    <tr>\n",
       "      <th>619</th>\n",
       "      <td>1</td>\n",
       "      <td>0.989126</td>\n",
       "      <td>I am the mother of 9 children and this is the ...</td>\n",
       "    </tr>\n",
       "    <tr>\n",
       "      <th>...</th>\n",
       "      <td>...</td>\n",
       "      <td>...</td>\n",
       "      <td>...</td>\n",
       "    </tr>\n",
       "    <tr>\n",
       "      <th>476</th>\n",
       "      <td>1</td>\n",
       "      <td>0.984582</td>\n",
       "      <td>I have had a great experience with this produc...</td>\n",
       "    </tr>\n",
       "    <tr>\n",
       "      <th>439</th>\n",
       "      <td>1</td>\n",
       "      <td>0.984504</td>\n",
       "      <td>I read many reviews about diaper disposals and...</td>\n",
       "    </tr>\n",
       "    <tr>\n",
       "      <th>398</th>\n",
       "      <td>1</td>\n",
       "      <td>0.982492</td>\n",
       "      <td>When our daughter was born we bought the diape...</td>\n",
       "    </tr>\n",
       "    <tr>\n",
       "      <th>633</th>\n",
       "      <td>1</td>\n",
       "      <td>0.977806</td>\n",
       "      <td>I originally bought the Diaper Genie when my s...</td>\n",
       "    </tr>\n",
       "    <tr>\n",
       "      <th>462</th>\n",
       "      <td>1</td>\n",
       "      <td>0.973683</td>\n",
       "      <td>I loved this compared to the genie. It is easi...</td>\n",
       "    </tr>\n",
       "    <tr>\n",
       "      <th>602</th>\n",
       "      <td>1</td>\n",
       "      <td>0.959819</td>\n",
       "      <td>If you wrap up the diaper with the tape, it ke...</td>\n",
       "    </tr>\n",
       "    <tr>\n",
       "      <th>354</th>\n",
       "      <td>1</td>\n",
       "      <td>0.940324</td>\n",
       "      <td>I Loved this product. It kept smell to a minim...</td>\n",
       "    </tr>\n",
       "    <tr>\n",
       "      <th>324</th>\n",
       "      <td>1</td>\n",
       "      <td>0.937813</td>\n",
       "      <td>This is the very best. So much better than Dia...</td>\n",
       "    </tr>\n",
       "    <tr>\n",
       "      <th>562</th>\n",
       "      <td>1</td>\n",
       "      <td>0.920967</td>\n",
       "      <td>I researched all the available options and dec...</td>\n",
       "    </tr>\n",
       "    <tr>\n",
       "      <th>606</th>\n",
       "      <td>1</td>\n",
       "      <td>0.917970</td>\n",
       "      <td>We like our diaper champ because you don\\'t ha...</td>\n",
       "    </tr>\n",
       "    <tr>\n",
       "      <th>461</th>\n",
       "      <td>1</td>\n",
       "      <td>0.868576</td>\n",
       "      <td>After using this for 3 years, I still stunned ...</td>\n",
       "    </tr>\n",
       "    <tr>\n",
       "      <th>432</th>\n",
       "      <td>1</td>\n",
       "      <td>0.861583</td>\n",
       "      <td>I love the Diaper Champ. I fought with the Dia...</td>\n",
       "    </tr>\n",
       "    <tr>\n",
       "      <th>419</th>\n",
       "      <td>1</td>\n",
       "      <td>0.855695</td>\n",
       "      <td>As much as I hear you all on the Diaper Champ ...</td>\n",
       "    </tr>\n",
       "    <tr>\n",
       "      <th>525</th>\n",
       "      <td>1</td>\n",
       "      <td>0.687900</td>\n",
       "      <td>I laughed when my husband wanted this product....</td>\n",
       "    </tr>\n",
       "    <tr>\n",
       "      <th>483</th>\n",
       "      <td>1</td>\n",
       "      <td>0.638053</td>\n",
       "      <td>I got this pail because I felt it was good tha...</td>\n",
       "    </tr>\n",
       "    <tr>\n",
       "      <th>541</th>\n",
       "      <td>1</td>\n",
       "      <td>0.623902</td>\n",
       "      <td>This was great for first 5 months of my baby g...</td>\n",
       "    </tr>\n",
       "    <tr>\n",
       "      <th>358</th>\n",
       "      <td>1</td>\n",
       "      <td>0.602651</td>\n",
       "      <td>I purchased this pail about a year ago and fou...</td>\n",
       "    </tr>\n",
       "    <tr>\n",
       "      <th>415</th>\n",
       "      <td>1</td>\n",
       "      <td>0.536016</td>\n",
       "      <td>This is a wonderful product.  One suggestion t...</td>\n",
       "    </tr>\n",
       "    <tr>\n",
       "      <th>482</th>\n",
       "      <td>-1</td>\n",
       "      <td>0.444859</td>\n",
       "      <td>I was given the Diaper Geni and after a week o...</td>\n",
       "    </tr>\n",
       "    <tr>\n",
       "      <th>338</th>\n",
       "      <td>-1</td>\n",
       "      <td>0.437663</td>\n",
       "      <td>We originally had the diaper genie which we fo...</td>\n",
       "    </tr>\n",
       "    <tr>\n",
       "      <th>479</th>\n",
       "      <td>-1</td>\n",
       "      <td>0.338269</td>\n",
       "      <td>My son is now 5 mo. and overall, I\\'m happy wi...</td>\n",
       "    </tr>\n",
       "    <tr>\n",
       "      <th>387</th>\n",
       "      <td>-1</td>\n",
       "      <td>0.319546</td>\n",
       "      <td>So far so good.  I was using the cheapie pail....</td>\n",
       "    </tr>\n",
       "    <tr>\n",
       "      <th>443</th>\n",
       "      <td>-1</td>\n",
       "      <td>0.293984</td>\n",
       "      <td>The Diaper Champ is difficult to use and does ...</td>\n",
       "    </tr>\n",
       "    <tr>\n",
       "      <th>455</th>\n",
       "      <td>-1</td>\n",
       "      <td>0.223671</td>\n",
       "      <td>We put a Diaper Genie on the shower list for t...</td>\n",
       "    </tr>\n",
       "    <tr>\n",
       "      <th>608</th>\n",
       "      <td>-1</td>\n",
       "      <td>0.176833</td>\n",
       "      <td>I paid $39.99 for this on Amazon and could hav...</td>\n",
       "    </tr>\n",
       "    <tr>\n",
       "      <th>332</th>\n",
       "      <td>-1</td>\n",
       "      <td>0.153702</td>\n",
       "      <td>We loved this pail at first. The mechanism see...</td>\n",
       "    </tr>\n",
       "    <tr>\n",
       "      <th>325</th>\n",
       "      <td>-1</td>\n",
       "      <td>0.141042</td>\n",
       "      <td>We bought this pail because it used regular tr...</td>\n",
       "    </tr>\n",
       "    <tr>\n",
       "      <th>538</th>\n",
       "      <td>-1</td>\n",
       "      <td>0.019035</td>\n",
       "      <td>I chose this pail because I didn\\'t want to sp...</td>\n",
       "    </tr>\n",
       "    <tr>\n",
       "      <th>578</th>\n",
       "      <td>-1</td>\n",
       "      <td>0.007654</td>\n",
       "      <td>I have to agree with the other moms. At first ...</td>\n",
       "    </tr>\n",
       "    <tr>\n",
       "      <th>489</th>\n",
       "      <td>-1</td>\n",
       "      <td>0.000827</td>\n",
       "      <td>I registered for this product after reading th...</td>\n",
       "    </tr>\n",
       "  </tbody>\n",
       "</table>\n",
       "<p>64 rows × 3 columns</p>\n",
       "</div>"
      ],
      "text/plain": [
       "     predicted_sentiment  predicted_sentiment_prob  \\\n",
       "571                    1                  0.999999   \n",
       "330                    1                  0.999993   \n",
       "635                    1                  0.999987   \n",
       "548                    1                  0.999985   \n",
       "428                    1                  0.999963   \n",
       "458                    1                  0.999962   \n",
       "509                    1                  0.999959   \n",
       "512                    1                  0.999936   \n",
       "528                    1                  0.999933   \n",
       "329                    1                  0.999922   \n",
       "353                    1                  0.999900   \n",
       "523                    1                  0.999849   \n",
       "417                    1                  0.999635   \n",
       "404                    1                  0.999532   \n",
       "486                    1                  0.999512   \n",
       "534                    1                  0.999284   \n",
       "574                    1                  0.998972   \n",
       "322                    1                  0.998769   \n",
       "564                    1                  0.998719   \n",
       "347                    1                  0.998704   \n",
       "558                    1                  0.998647   \n",
       "356                    1                  0.998031   \n",
       "382                    1                  0.998023   \n",
       "607                    1                  0.997734   \n",
       "563                    1                  0.996783   \n",
       "572                    1                  0.995138   \n",
       "627                    1                  0.993911   \n",
       "621                    1                  0.993207   \n",
       "643                    1                  0.990033   \n",
       "619                    1                  0.989126   \n",
       "..                   ...                       ...   \n",
       "476                    1                  0.984582   \n",
       "439                    1                  0.984504   \n",
       "398                    1                  0.982492   \n",
       "633                    1                  0.977806   \n",
       "462                    1                  0.973683   \n",
       "602                    1                  0.959819   \n",
       "354                    1                  0.940324   \n",
       "324                    1                  0.937813   \n",
       "562                    1                  0.920967   \n",
       "606                    1                  0.917970   \n",
       "461                    1                  0.868576   \n",
       "432                    1                  0.861583   \n",
       "419                    1                  0.855695   \n",
       "525                    1                  0.687900   \n",
       "483                    1                  0.638053   \n",
       "541                    1                  0.623902   \n",
       "358                    1                  0.602651   \n",
       "415                    1                  0.536016   \n",
       "482                   -1                  0.444859   \n",
       "338                   -1                  0.437663   \n",
       "479                   -1                  0.338269   \n",
       "387                   -1                  0.319546   \n",
       "443                   -1                  0.293984   \n",
       "455                   -1                  0.223671   \n",
       "608                   -1                  0.176833   \n",
       "332                   -1                  0.153702   \n",
       "325                   -1                  0.141042   \n",
       "538                   -1                  0.019035   \n",
       "578                   -1                  0.007654   \n",
       "489                   -1                  0.000827   \n",
       "\n",
       "                                          review_clean  \n",
       "571  We did alot of research on diaper pails before...  \n",
       "330  Although I had a Diaper Genie from my first ch...  \n",
       "635  my son is now 3 months old and when he was bor...  \n",
       "548  This is one of the best things that we got as ...  \n",
       "428  I got this for my daughter and I just think it...  \n",
       "458  I\\'m SO glad that we asked the sales associate...  \n",
       "509  My husband and I wanted this style (vs. the Di...  \n",
       "512  Bottom line: Using regular bags saves big time...  \n",
       "528  As a Mother of 9 month old twins, I go through...  \n",
       "329  I LOVE LOVE LOVE this product! It is SO much e...  \n",
       "353  In reading some of the other reviews, I think ...  \n",
       "523  We researched all of the different types of di...  \n",
       "417  The best feature is that you can use your own ...  \n",
       "404  I love the diaper champ.  I registered for thi...  \n",
       "486  This is my second child. With my first, I went...  \n",
       "534  Wow!  This is fabulous.  It was a toss-up betw...  \n",
       "574  My husband and I decided to buy this because w...  \n",
       "322  We had 2 diaper Genie\\'s both given to us as a...  \n",
       "564  This product has been great.  It\\'s easy to us...  \n",
       "347  I\\'ve been using this diaper pail for 2 and 1/...  \n",
       "558  While the diaper champ is not perfect, it is r...  \n",
       "356  This product meets all my expectations. The di...  \n",
       "382  I changed my registry from the Diaper Genie to...  \n",
       "607  This is a great diaper pail, easy to use and k...  \n",
       "563  My husband and I love the Diaper Champ - it ma...  \n",
       "572  We registered for the diaper champ after compa...  \n",
       "627  I have been using the Diaper Champ for the pas...  \n",
       "621  Unlike others, the Diaper Champ uses standard ...  \n",
       "643  I\\'ve read all of the reviews of those of you ...  \n",
       "619  I am the mother of 9 children and this is the ...  \n",
       "..                                                 ...  \n",
       "476  I have had a great experience with this produc...  \n",
       "439  I read many reviews about diaper disposals and...  \n",
       "398  When our daughter was born we bought the diape...  \n",
       "633  I originally bought the Diaper Genie when my s...  \n",
       "462  I loved this compared to the genie. It is easi...  \n",
       "602  If you wrap up the diaper with the tape, it ke...  \n",
       "354  I Loved this product. It kept smell to a minim...  \n",
       "324  This is the very best. So much better than Dia...  \n",
       "562  I researched all the available options and dec...  \n",
       "606  We like our diaper champ because you don\\'t ha...  \n",
       "461  After using this for 3 years, I still stunned ...  \n",
       "432  I love the Diaper Champ. I fought with the Dia...  \n",
       "419  As much as I hear you all on the Diaper Champ ...  \n",
       "525  I laughed when my husband wanted this product....  \n",
       "483  I got this pail because I felt it was good tha...  \n",
       "541  This was great for first 5 months of my baby g...  \n",
       "358  I purchased this pail about a year ago and fou...  \n",
       "415  This is a wonderful product.  One suggestion t...  \n",
       "482  I was given the Diaper Geni and after a week o...  \n",
       "338  We originally had the diaper genie which we fo...  \n",
       "479  My son is now 5 mo. and overall, I\\'m happy wi...  \n",
       "387  So far so good.  I was using the cheapie pail....  \n",
       "443  The Diaper Champ is difficult to use and does ...  \n",
       "455  We put a Diaper Genie on the shower list for t...  \n",
       "608  I paid $39.99 for this on Amazon and could hav...  \n",
       "332  We loved this pail at first. The mechanism see...  \n",
       "325  We bought this pail because it used regular tr...  \n",
       "538  I chose this pail because I didn\\'t want to sp...  \n",
       "578  I have to agree with the other moms. At first ...  \n",
       "489  I registered for this product after reading th...  \n",
       "\n",
       "[64 rows x 3 columns]"
      ]
     },
     "execution_count": 69,
     "metadata": {},
     "output_type": "execute_result"
    }
   ],
   "source": [
    "diaper_review_sentiment_pred_proba.sort_values(by='predicted_sentiment_prob', ascending=False)"
   ]
  },
  {
   "cell_type": "markdown",
   "metadata": {},
   "source": [
    "### 10. Consider the most positive review for ‘Baby Trend Diaper Champ’ according to the sentiment_model from the IPython Notebook from lecture. Which of the following ranges contains the predicted_sentiment for this review, if we use the selected_words_model to analyze it?"
   ]
  },
  {
   "cell_type": "code",
   "execution_count": null,
   "metadata": {},
   "outputs": [],
   "source": []
  }
 ],
 "metadata": {
  "kernelspec": {
   "display_name": "mlwashington",
   "language": "python",
   "name": "mlwashington"
  },
  "language_info": {
   "codemirror_mode": {
    "name": "ipython",
    "version": 2
   },
   "file_extension": ".py",
   "mimetype": "text/x-python",
   "name": "python",
   "nbconvert_exporter": "python",
   "pygments_lexer": "ipython2",
   "version": "2.7.17"
  }
 },
 "nbformat": 4,
 "nbformat_minor": 4
}
