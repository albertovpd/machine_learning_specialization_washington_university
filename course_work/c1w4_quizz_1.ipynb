{
 "cells": [
  {
   "cell_type": "markdown",
   "metadata": {},
   "source": [
    "### 1. A country, called Simpleland, has a language with a small vocabulary of just “the”, “on”, “and”, “go”, “round”, “bus”, and “wheels”. For a word count vector with indices ordered as the words appear above, what is the word count vector for a document that simply says “the wheels on the bus go round and round.”\n",
    "\n",
    "### Please enter the vector of counts as follows: If the counts were [\"the\"=1, “on”=3, \"and\"=2, \"go\"=1, \"round\"=2, \"bus\"=1, \"wheels\"=1], enter 1321211."
   ]
  },
  {
   "cell_type": "code",
   "execution_count": 42,
   "metadata": {},
   "outputs": [
    {
     "name": "stdout",
     "output_type": "stream",
     "text": [
      "set(['and', 'on', 'bus', 'round', 'go', 'the', 'wheels'])\n"
     ]
    }
   ],
   "source": [
    "text=\"the wheels on the bus go round and round\"\n",
    "print(set(text.split()))"
   ]
  },
  {
   "cell_type": "code",
   "execution_count": 45,
   "metadata": {},
   "outputs": [
    {
     "name": "stdout",
     "output_type": "stream",
     "text": [
      "('and', 1)\n",
      "('on', 1)\n",
      "('bus', 1)\n",
      "('round', 2)\n",
      "('go', 1)\n",
      "('the', 2)\n",
      "('wheels', 1)\n"
     ]
    },
    {
     "data": {
      "text/plain": [
       "[1, 1, 1, 2, 1, 2, 1]"
      ]
     },
     "execution_count": 45,
     "metadata": {},
     "output_type": "execute_result"
    }
   ],
   "source": [
    "vector_counts=[]\n",
    "for w in set(text.split()):\n",
    "    print(w,text.count(w))\n",
    "    vector_counts.append(text.count(w))\n",
    "vector_counts"
   ]
  },
  {
   "cell_type": "markdown",
   "metadata": {},
   "source": [
    "### 2. In Simpleland, a reader is enjoying a document with a representation: [1 3 2 1 2 1 1]. Which of the following articles would you recommend to this reader next?"
   ]
  },
  {
   "cell_type": "code",
   "execution_count": 47,
   "metadata": {},
   "outputs": [],
   "source": [
    "posibilities=[[7, 0, 2, 1, 0, 0, 1],[1, 7, 0, 0, 2, 0, 1],[1, 0, 0, 0, 7, 1, 2], [0, 2, 0, 0, 7, 1, 1]]"
   ]
  },
  {
   "cell_type": "code",
   "execution_count": null,
   "metadata": {},
   "outputs": [],
   "source": []
  },
  {
   "cell_type": "code",
   "execution_count": null,
   "metadata": {},
   "outputs": [],
   "source": []
  }
 ],
 "metadata": {
  "kernelspec": {
   "display_name": "mlwashington",
   "language": "python",
   "name": "mlwashington"
  },
  "language_info": {
   "codemirror_mode": {
    "name": "ipython",
    "version": 2
   },
   "file_extension": ".py",
   "mimetype": "text/x-python",
   "name": "python",
   "nbconvert_exporter": "python",
   "pygments_lexer": "ipython2",
   "version": "2.7.15"
  }
 },
 "nbformat": 4,
 "nbformat_minor": 2
}
