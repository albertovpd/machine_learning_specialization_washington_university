{
 "cells": [
  {
   "cell_type": "markdown",
   "metadata": {},
   "source": [
    "### 1. A country, called Simpleland, has a language with a small vocabulary of just “the”, “on”, “and”, “go”, “round”, “bus”, and “wheels”. For a word count vector with indices ordered as the words appear above, what is the word count vector for a document that simply says “the wheels on the bus go round and round.”\n",
    "\n",
    "### Please enter the vector of counts as follows: If the counts were [\"the\"=1, “on”=3, \"and\"=2, \"go\"=1, \"round\"=2, \"bus\"=1, \"wheels\"=1], enter 1321211."
   ]
  },
  {
   "cell_type": "code",
   "execution_count": 1,
   "metadata": {},
   "outputs": [
    {
     "name": "stdout",
     "output_type": "stream",
     "text": [
      "set(['and', 'on', 'bus', 'round', 'go', 'the', 'wheels'])\n"
     ]
    }
   ],
   "source": [
    "text=\"the wheels on the bus go round and round\"\n",
    "print(set(text.split()))"
   ]
  },
  {
   "cell_type": "code",
   "execution_count": 18,
   "metadata": {},
   "outputs": [
    {
     "data": {
      "text/plain": [
       "2111211"
      ]
     },
     "execution_count": 18,
     "metadata": {},
     "output_type": "execute_result"
    }
   ],
   "source": [
    "2111211"
   ]
  },
  {
   "cell_type": "markdown",
   "metadata": {},
   "source": [
    "### 2. In Simpleland, a reader is enjoying a document with a representation: [1 3 2 1 2 1 1]. Which of the following articles would you recommend to this reader next?"
   ]
  },
  {
   "cell_type": "code",
   "execution_count": 14,
   "metadata": {},
   "outputs": [],
   "source": [
    "posibilities=[[7, 0, 2, 1, 0, 0, 1],[1, 7, 0, 0, 2, 0, 1],[1, 0, 0, 0, 7, 1, 2], [0, 2, 0, 0, 7, 1, 1]]\n",
    "reader= [1 ,3 ,2 ,1 ,2 ,1 ,1]\n",
    "import numpy as np"
   ]
  },
  {
   "cell_type": "code",
   "execution_count": 17,
   "metadata": {},
   "outputs": [
    {
     "name": "stdout",
     "output_type": "stream",
     "text": [
      "(array([7, 0, 2, 1, 0, 0, 1]), 0.3825184261187248)\n",
      "(array([1, 7, 0, 0, 2, 0, 1]), 0.7944613465542745)\n",
      "(array([1, 0, 0, 0, 7, 1, 2]), 0.5296408977028497)\n",
      "(array([0, 2, 0, 0, 7, 1, 1]), 0.6473388749701496)\n"
     ]
    }
   ],
   "source": [
    "# similarity = cos(theta) = v1 * v2 / ||v1|| * ||v2||\n",
    "# this is the cosine. the bigger cos(theta) the more parallel vectors (cos(0)=1 => parallalel and same direction)\n",
    "\n",
    "for v in posibilities:\n",
    "        v2=np.array(v)\n",
    "        v1=np.array(reader)\n",
    "        print(v2, np.dot(v1,v2)/(np.linalg.norm(v2)*np.linalg.norm(reader)))"
   ]
  },
  {
   "cell_type": "markdown",
   "metadata": {},
   "source": [
    "### 3. A corpus in Simpleland has 99 articles. If you pick one article and perform 1-nearest neighbor search to find the closest article to this query article, how many times must you compute the similarity between two articles?"
   ]
  },
  {
   "cell_type": "code",
   "execution_count": null,
   "metadata": {},
   "outputs": [],
   "source": [
    "98"
   ]
  },
  {
   "cell_type": "markdown",
   "metadata": {},
   "source": [
    "### 5.Question 5 Which of the following statements are true? (Check all that apply):"
   ]
  },
  {
   "cell_type": "markdown",
   "metadata": {},
   "source": [
    "### 6.Question 6 Which of the following pictures represents the best k-means solution? (Squares represent observations, plus signs are cluster centers, and colors indicate assignments of observations to cluster centers.)\n"
   ]
  },
  {
   "cell_type": "code",
   "execution_count": null,
   "metadata": {},
   "outputs": [],
   "source": []
  }
 ],
 "metadata": {
  "kernelspec": {
   "display_name": "mlwashington",
   "language": "python",
   "name": "mlwashington"
  },
  "language_info": {
   "codemirror_mode": {
    "name": "ipython",
    "version": 2
   },
   "file_extension": ".py",
   "mimetype": "text/x-python",
   "name": "python",
   "nbconvert_exporter": "python",
   "pygments_lexer": "ipython2",
   "version": "2.7.15"
  }
 },
 "nbformat": 4,
 "nbformat_minor": 4
}
